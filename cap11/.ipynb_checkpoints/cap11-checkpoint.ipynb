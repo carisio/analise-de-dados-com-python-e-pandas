{
 "cells": [
  {
   "cell_type": "markdown",
   "metadata": {},
   "source": [
    "# Capítulo 11 - Tipo de dados datetime\n",
    "\n",
    "## Seção 11.2 - Objeto datetime do Python\n",
    "\n",
    "Existe a biblioteca datetime para trabalhar com data/hora:"
   ]
  },
  {
   "cell_type": "code",
   "execution_count": 1,
   "metadata": {},
   "outputs": [
    {
     "name": "stdout",
     "output_type": "stream",
     "text": [
      "Hoje: 2022-05-02 19:30:46.142377\n",
      "Dias desde o nascimento: 14447 days, 19:30:46.142377\n"
     ]
    }
   ],
   "source": [
    "from datetime import datetime\n",
    "\n",
    "hoje = datetime.now()\n",
    "\n",
    "print('Hoje:', hoje)\n",
    "\n",
    "nascimento = datetime(1982, 10, 12)\n",
    "\n",
    "print('Dias desde o nascimento:', hoje - nascimento)"
   ]
  },
  {
   "cell_type": "markdown",
   "metadata": {},
   "source": [
    "## Seção 11.3 - Conversão para datetime\n",
    "\n",
    "Podemos usar a função to_datetime para converter um objeto para datetime:"
   ]
  },
  {
   "cell_type": "code",
   "execution_count": 2,
   "metadata": {},
   "outputs": [
    {
     "name": "stdout",
     "output_type": "stream",
     "text": [
      "Início do dataframe Ebola:\n",
      "         Date  Day  Cases_Guinea  Cases_Liberia  Cases_SierraLeone\n",
      "0    1/5/2015  289        2776.0            NaN            10030.0\n",
      "1    1/4/2015  288        2775.0            NaN             9780.0\n",
      "2    1/3/2015  287        2769.0         8166.0             9722.0\n",
      "3    1/2/2015  286           NaN         8157.0                NaN\n",
      "4  12/31/2014  284        2730.0         8115.0             9633.0\n",
      "-------------------------------------------------------\n",
      "Note que o tipo da coluna Date é object (nesse caso é uma string genérica):\n",
      "<class 'pandas.core.frame.DataFrame'>\n",
      "RangeIndex: 122 entries, 0 to 121\n",
      "Data columns (total 18 columns):\n",
      " #   Column               Non-Null Count  Dtype  \n",
      "---  ------               --------------  -----  \n",
      " 0   Date                 122 non-null    object \n",
      " 1   Day                  122 non-null    int64  \n",
      " 2   Cases_Guinea         93 non-null     float64\n",
      " 3   Cases_Liberia        83 non-null     float64\n",
      " 4   Cases_SierraLeone    87 non-null     float64\n",
      " 5   Cases_Nigeria        38 non-null     float64\n",
      " 6   Cases_Senegal        25 non-null     float64\n",
      " 7   Cases_UnitedStates   18 non-null     float64\n",
      " 8   Cases_Spain          16 non-null     float64\n",
      " 9   Cases_Mali           12 non-null     float64\n",
      " 10  Deaths_Guinea        92 non-null     float64\n",
      " 11  Deaths_Liberia       81 non-null     float64\n",
      " 12  Deaths_SierraLeone   87 non-null     float64\n",
      " 13  Deaths_Nigeria       38 non-null     float64\n",
      " 14  Deaths_Senegal       22 non-null     float64\n",
      " 15  Deaths_UnitedStates  18 non-null     float64\n",
      " 16  Deaths_Spain         16 non-null     float64\n",
      " 17  Deaths_Mali          12 non-null     float64\n",
      "dtypes: float64(16), int64(1), object(1)\n",
      "memory usage: 17.3+ KB\n",
      "None\n",
      "-------------------------------------------------------\n",
      "Criando a coluna date_dt com o tipodatetime:\n",
      "<class 'pandas.core.frame.DataFrame'>\n",
      "RangeIndex: 122 entries, 0 to 121\n",
      "Data columns (total 19 columns):\n",
      " #   Column               Non-Null Count  Dtype         \n",
      "---  ------               --------------  -----         \n",
      " 0   Date                 122 non-null    object        \n",
      " 1   Day                  122 non-null    int64         \n",
      " 2   Cases_Guinea         93 non-null     float64       \n",
      " 3   Cases_Liberia        83 non-null     float64       \n",
      " 4   Cases_SierraLeone    87 non-null     float64       \n",
      " 5   Cases_Nigeria        38 non-null     float64       \n",
      " 6   Cases_Senegal        25 non-null     float64       \n",
      " 7   Cases_UnitedStates   18 non-null     float64       \n",
      " 8   Cases_Spain          16 non-null     float64       \n",
      " 9   Cases_Mali           12 non-null     float64       \n",
      " 10  Deaths_Guinea        92 non-null     float64       \n",
      " 11  Deaths_Liberia       81 non-null     float64       \n",
      " 12  Deaths_SierraLeone   87 non-null     float64       \n",
      " 13  Deaths_Nigeria       38 non-null     float64       \n",
      " 14  Deaths_Senegal       22 non-null     float64       \n",
      " 15  Deaths_UnitedStates  18 non-null     float64       \n",
      " 16  Deaths_Spain         16 non-null     float64       \n",
      " 17  Deaths_Mali          12 non-null     float64       \n",
      " 18  date_dt              122 non-null    datetime64[ns]\n",
      "dtypes: datetime64[ns](1), float64(16), int64(1), object(1)\n",
      "memory usage: 18.2+ KB\n",
      "None\n"
     ]
    }
   ],
   "source": [
    "import pandas as pd\n",
    "\n",
    "ebola = pd.read_csv('../data/country_timeseries.csv')\n",
    "\n",
    "print('Início do dataframe Ebola:')\n",
    "print(ebola.iloc[:5, :5])\n",
    "\n",
    "print('-------------------------------------------------------')\n",
    "print('Note que o tipo da coluna Date é object (nesse caso é uma string genérica):')\n",
    "print(ebola.info())\n",
    "\n",
    "print('-------------------------------------------------------')\n",
    "print('Criando a coluna date_dt com o tipodatetime:')\n",
    "ebola['date_dt'] = pd.to_datetime(ebola['Date'], format='%m/%d/%Y')\n",
    "print(ebola.info())"
   ]
  },
  {
   "cell_type": "markdown",
   "metadata": {},
   "source": [
    "Ao abrir um arquivo usando read_csv nós podemos já especificar as colunas de data e como o pandas deve ler o formato de data:"
   ]
  },
  {
   "cell_type": "code",
   "execution_count": 3,
   "metadata": {},
   "outputs": [
    {
     "name": "stdout",
     "output_type": "stream",
     "text": [
      "O tipo do primeiro registro da primeira coluna (Date) é: <class 'pandas._libs.tslibs.timestamps.Timestamp'>\n",
      "-------------------------------------------------------\n",
      "Vendo o info depois de ler o csv:\n",
      "<class 'pandas.core.frame.DataFrame'>\n",
      "RangeIndex: 122 entries, 0 to 121\n",
      "Data columns (total 18 columns):\n",
      " #   Column               Non-Null Count  Dtype         \n",
      "---  ------               --------------  -----         \n",
      " 0   Date                 122 non-null    datetime64[ns]\n",
      " 1   Day                  122 non-null    int64         \n",
      " 2   Cases_Guinea         93 non-null     float64       \n",
      " 3   Cases_Liberia        83 non-null     float64       \n",
      " 4   Cases_SierraLeone    87 non-null     float64       \n",
      " 5   Cases_Nigeria        38 non-null     float64       \n",
      " 6   Cases_Senegal        25 non-null     float64       \n",
      " 7   Cases_UnitedStates   18 non-null     float64       \n",
      " 8   Cases_Spain          16 non-null     float64       \n",
      " 9   Cases_Mali           12 non-null     float64       \n",
      " 10  Deaths_Guinea        92 non-null     float64       \n",
      " 11  Deaths_Liberia       81 non-null     float64       \n",
      " 12  Deaths_SierraLeone   87 non-null     float64       \n",
      " 13  Deaths_Nigeria       38 non-null     float64       \n",
      " 14  Deaths_Senegal       22 non-null     float64       \n",
      " 15  Deaths_UnitedStates  18 non-null     float64       \n",
      " 16  Deaths_Spain         16 non-null     float64       \n",
      " 17  Deaths_Mali          12 non-null     float64       \n",
      "dtypes: datetime64[ns](1), float64(16), int64(1)\n",
      "memory usage: 17.3 KB\n",
      "None\n"
     ]
    }
   ],
   "source": [
    "ebola = pd.read_csv('../data/country_timeseries.csv', parse_dates=[0])\n",
    "\n",
    "print('O tipo do primeiro registro da primeira coluna (Date) é:', type(ebola.iloc[0, 0]))\n",
    "print('-------------------------------------------------------')\n",
    "print('Vendo o info depois de ler o csv:')\n",
    "print(ebola.info())"
   ]
  },
  {
   "cell_type": "markdown",
   "metadata": {},
   "source": [
    "## Seção 11.5 - Extraindo componentes de datas\n",
    "\n",
    "Podemos extrair partes do datetime. Por exemplo, o dia, hora, minuto, segundo, mês etc:"
   ]
  },
  {
   "cell_type": "code",
   "execution_count": 4,
   "metadata": {},
   "outputs": [
    {
     "name": "stdout",
     "output_type": "stream",
     "text": [
      "Hoje é dia 2 do mês 5. Estamos no ano de 2022.\n"
     ]
    }
   ],
   "source": [
    "print(f'Hoje é dia {hoje.day} do mês {hoje.month}. Estamos no ano de {hoje.year}.')"
   ]
  },
  {
   "cell_type": "markdown",
   "metadata": {},
   "source": [
    "## Seção 11.6 - Cálculos com datas e timedeltas"
   ]
  },
  {
   "cell_type": "code",
   "execution_count": 5,
   "metadata": {},
   "outputs": [
    {
     "name": "stdout",
     "output_type": "stream",
     "text": [
      "        Date  Day Day_calculado\n",
      "0 2015-01-05  289      289 days\n",
      "1 2015-01-04  288      288 days\n",
      "2 2015-01-03  287      287 days\n",
      "3 2015-01-02  286      286 days\n",
      "4 2014-12-31  284      284 days\n",
      "---------------------------------------------\n",
      "Tipo de objeto da coluna Day_calculado: timedelta64[ns]\n"
     ]
    }
   ],
   "source": [
    "inicio_surto = ebola.Date.min()\n",
    "\n",
    "ebola['Day_calculado'] = ebola.Date - inicio_surto\n",
    "\n",
    "print(ebola[['Date', 'Day', 'Day_calculado']].head())\n",
    "\n",
    "print('---------------------------------------------')\n",
    "print('Tipo de objeto da coluna Day_calculado:', ebola.Day_calculado.dtype)"
   ]
  },
  {
   "cell_type": "markdown",
   "metadata": {},
   "source": [
    "## Seção 11.7 - Método de datetime"
   ]
  },
  {
   "cell_type": "code",
   "execution_count": 6,
   "metadata": {},
   "outputs": [
    {
     "name": "stdout",
     "output_type": "stream",
     "text": [
      "<class 'pandas.core.frame.DataFrame'>\n",
      "RangeIndex: 553 entries, 0 to 552\n",
      "Data columns (total 7 columns):\n",
      " #   Column                 Non-Null Count  Dtype         \n",
      "---  ------                 --------------  -----         \n",
      " 0   Bank Name              553 non-null    object        \n",
      " 1   City                   553 non-null    object        \n",
      " 2   ST                     553 non-null    object        \n",
      " 3   CERT                   553 non-null    int64         \n",
      " 4   Acquiring Institution  553 non-null    object        \n",
      " 5   Closing Date           553 non-null    datetime64[ns]\n",
      " 6   Updated Date           553 non-null    datetime64[ns]\n",
      "dtypes: datetime64[ns](2), int64(1), object(4)\n",
      "memory usage: 30.4+ KB\n",
      "None\n",
      "----------------------------------------------------------------------\n",
      "Vamos calcular o trimestre e o ano do fechamento...\n",
      "Vamos agrupar por ano/trimestre de fechamento...\n",
      "E imprimir os resultados...\n"
     ]
    },
    {
     "data": {
      "text/plain": [
       "<AxesSubplot:xlabel='closing_year,closing_quarter'>"
      ]
     },
     "execution_count": 6,
     "metadata": {},
     "output_type": "execute_result"
    },
    {
     "data": {
      "image/png": "[encoded data removed]",
      "text/plain": [
       "<Figure size 432x288 with 1 Axes>"
      ]
     },
     "metadata": {
      "needs_background": "light"
     },
     "output_type": "display_data"
    },
    {
     "data": {
      "image/png": "[encoded data removed]",
      "text/plain": [
       "<Figure size 432x288 with 1 Axes>"
      ]
     },
     "metadata": {
      "needs_background": "light"
     },
     "output_type": "display_data"
    }
   ],
   "source": [
    "import matplotlib.pyplot as plt\n",
    "\n",
    "# Contjunto de dados banklist trata de falências bancárias:\n",
    "banks = pd.read_csv('../data/banklist.csv', parse_dates=[5, 6])\n",
    "print(banks.info())\n",
    "\n",
    "print('-'*70)\n",
    "print('Vamos calcular o trimestre e o ano do fechamento...')\n",
    "banks['closing_quarter'], banks['closing_year'] = (banks['Closing Date'].dt.quarter, banks['Closing Date'].dt.year)\n",
    "print('Vamos agrupar por ano/trimestre de fechamento...')\n",
    "closing_year = banks.groupby(['closing_year']).size()\n",
    "closing_year_quarter = banks.groupby(['closing_year', 'closing_quarter']).size()\n",
    "print('E imprimir os resultados...')\n",
    "\n",
    "plt.subplots()\n",
    "closing_year.plot()\n",
    "\n",
    "plt.subplots()\n",
    "closing_year_quarter.plot()"
   ]
  },
  {
   "cell_type": "markdown",
   "metadata": {},
   "source": [
    "## Seção 11.8 - Obtendo dados de ações\n",
    "\n",
    "Para obter dados de ações podemos usar o método pandas_datareader para ler dados da internet. Esse objeto tem o método get_data_yahoo, que faz download das cotações do Yahoo Finance. Uma lista dos data readers disponíveis estão aqui: https://pandas-datareader.readthedocs.io/en/latest/readers/index.html"
   ]
  },
  {
   "cell_type": "code",
   "execution_count": 7,
   "metadata": {},
   "outputs": [
    {
     "data": {
      "text/html": [
       "<div>\n",
       "<style scoped>\n",
       "    .dataframe tbody tr th:only-of-type {\n",
       "        vertical-align: middle;\n",
       "    }\n",
       "\n",
       "    .dataframe tbody tr th {\n",
       "        vertical-align: top;\n",
       "    }\n",
       "\n",
       "    .dataframe thead th {\n",
       "        text-align: right;\n",
       "    }\n",
       "</style>\n",
       "<table border=\"1\" class=\"dataframe\">\n",
       "  <thead>\n",
       "    <tr style=\"text-align: right;\">\n",
       "      <th></th>\n",
       "      <th>High</th>\n",
       "      <th>Low</th>\n",
       "      <th>Open</th>\n",
       "      <th>Close</th>\n",
       "      <th>Volume</th>\n",
       "      <th>Adj Close</th>\n",
       "    </tr>\n",
       "    <tr>\n",
       "      <th>Date</th>\n",
       "      <th></th>\n",
       "      <th></th>\n",
       "      <th></th>\n",
       "      <th></th>\n",
       "      <th></th>\n",
       "      <th></th>\n",
       "    </tr>\n",
       "  </thead>\n",
       "  <tbody>\n",
       "    <tr>\n",
       "      <th>2022-04-26</th>\n",
       "      <td>31.320000</td>\n",
       "      <td>29.830000</td>\n",
       "      <td>31.18</td>\n",
       "      <td>29.980000</td>\n",
       "      <td>11274900.0</td>\n",
       "      <td>29.980000</td>\n",
       "    </tr>\n",
       "    <tr>\n",
       "      <th>2022-04-27</th>\n",
       "      <td>31.820000</td>\n",
       "      <td>30.230000</td>\n",
       "      <td>30.68</td>\n",
       "      <td>31.629999</td>\n",
       "      <td>12950700.0</td>\n",
       "      <td>31.629999</td>\n",
       "    </tr>\n",
       "    <tr>\n",
       "      <th>2022-04-28</th>\n",
       "      <td>31.959999</td>\n",
       "      <td>30.850000</td>\n",
       "      <td>31.85</td>\n",
       "      <td>31.129999</td>\n",
       "      <td>7984900.0</td>\n",
       "      <td>31.129999</td>\n",
       "    </tr>\n",
       "    <tr>\n",
       "      <th>2022-04-29</th>\n",
       "      <td>31.549999</td>\n",
       "      <td>29.969999</td>\n",
       "      <td>31.52</td>\n",
       "      <td>30.100000</td>\n",
       "      <td>9529500.0</td>\n",
       "      <td>30.100000</td>\n",
       "    </tr>\n",
       "    <tr>\n",
       "      <th>2022-05-02</th>\n",
       "      <td>30.280001</td>\n",
       "      <td>28.480000</td>\n",
       "      <td>29.91</td>\n",
       "      <td>28.940001</td>\n",
       "      <td>12226000.0</td>\n",
       "      <td>28.940001</td>\n",
       "    </tr>\n",
       "  </tbody>\n",
       "</table>\n",
       "</div>"
      ],
      "text/plain": [
       "                 High        Low   Open      Close      Volume  Adj Close\n",
       "Date                                                                     \n",
       "2022-04-26  31.320000  29.830000  31.18  29.980000  11274900.0  29.980000\n",
       "2022-04-27  31.820000  30.230000  30.68  31.629999  12950700.0  31.629999\n",
       "2022-04-28  31.959999  30.850000  31.85  31.129999   7984900.0  31.129999\n",
       "2022-04-29  31.549999  29.969999  31.52  30.100000   9529500.0  30.100000\n",
       "2022-05-02  30.280001  28.480000  29.91  28.940001  12226000.0  28.940001"
      ]
     },
     "execution_count": 7,
     "metadata": {},
     "output_type": "execute_result"
    }
   ],
   "source": [
    "import pandas_datareader as pdr\n",
    "\n",
    "weg = pdr.get_data_yahoo('WEGE3.SA')\n",
    "weg.tail()"
   ]
  },
  {
   "cell_type": "markdown",
   "metadata": {},
   "source": [
    "## Seção 11.9 - Obtendo subconjuntos de dados com base em datas\n",
    "\n",
    "Podemos usar filtrage por booleano ou outra forma de filtragem para operações com datas.\n",
    "\n",
    "O get_data_yahoo traz o índice por data. Por isso do jeito que está o livro não funciona, pois nessa seção ele pega os dados salvos de um csv. As alternativas são fazer a operação diretamente no índice ou reiniciar o índice para criar uma coluna de data e fazer a comparação nessa coluna:"
   ]
  },
  {
   "cell_type": "code",
   "execution_count": 8,
   "metadata": {},
   "outputs": [
    {
     "name": "stdout",
     "output_type": "stream",
     "text": [
      "----------------------------------------------------------------------\n",
      "Fazendo a operação diretamente no índice: \n",
      "                 High        Low       Open      Close      Volume  Adj Close\n",
      "Date                                                                         \n",
      "2022-04-25  31.620001  30.920000  31.030001  31.209999   5920900.0  31.209999\n",
      "2022-04-26  31.320000  29.830000  31.180000  29.980000  11274900.0  29.980000\n",
      "2022-04-27  31.820000  30.230000  30.680000  31.629999  12950700.0  31.629999\n",
      "2022-04-28  31.959999  30.850000  31.850000  31.129999   7984900.0  31.129999\n",
      "2022-04-29  31.549999  29.969999  31.520000  30.100000   9529500.0  30.100000\n",
      "----------------------------------------------------------------------\n",
      "Na verdade, como os índices são do tipo DatetimeIndex, podemos fazer logo a seleção por yyyy-mm:\n",
      "                 High        Low       Open      Close      Volume  Adj Close\n",
      "Date                                                                         \n",
      "2022-04-25  31.620001  30.920000  31.030001  31.209999   5920900.0  31.209999\n",
      "2022-04-26  31.320000  29.830000  31.180000  29.980000  11274900.0  29.980000\n",
      "2022-04-27  31.820000  30.230000  30.680000  31.629999  12950700.0  31.629999\n",
      "2022-04-28  31.959999  30.850000  31.850000  31.129999   7984900.0  31.129999\n",
      "2022-04-29  31.549999  29.969999  31.520000  30.100000   9529500.0  30.100000\n",
      "----------------------------------------------------------------------\n",
      "Reiniciando o índice: \n",
      "           Date       High        Low       Open      Close      Volume  \\\n",
      "1238 2022-04-25  31.620001  30.920000  31.030001  31.209999   5920900.0   \n",
      "1239 2022-04-26  31.320000  29.830000  31.180000  29.980000  11274900.0   \n",
      "1240 2022-04-27  31.820000  30.230000  30.680000  31.629999  12950700.0   \n",
      "1241 2022-04-28  31.959999  30.850000  31.850000  31.129999   7984900.0   \n",
      "1242 2022-04-29  31.549999  29.969999  31.520000  30.100000   9529500.0   \n",
      "\n",
      "      Adj Close  \n",
      "1238  31.209999  \n",
      "1239  29.980000  \n",
      "1240  31.629999  \n",
      "1241  31.129999  \n",
      "1242  30.100000  \n"
     ]
    }
   ],
   "source": [
    "print('-'*70)\n",
    "print('Fazendo a operação diretamente no índice: ')\n",
    "weg_abril_2022 = weg.loc[ (weg.index.year == 2022) & (weg.index.month == 4)]\n",
    "print(weg_abril_2022.tail())\n",
    "\n",
    "print('-'*70)\n",
    "print('Na verdade, como os índices são do tipo DatetimeIndex, podemos fazer logo a seleção por yyyy-mm:')\n",
    "weg_abril_2022 = weg['2022-04']\n",
    "print(weg_abril_2022.tail())\n",
    "\n",
    "\n",
    "print('-'*70)\n",
    "print('Reiniciando o índice: ')\n",
    "weg_reset_index = weg.reset_index()\n",
    "\n",
    "weg_abril_2022_reset_index = weg_reset_index[ (weg_reset_index.Date.dt.year == 2022) & (weg_reset_index.Date.dt.month == 4)]\n",
    "print(weg_abril_2022_reset_index.tail())"
   ]
  },
  {
   "cell_type": "markdown",
   "metadata": {},
   "source": [
    "Note que poderíamos usar um TimedeltaIndex também pra tratar deslocamentos de data. Por exemplo, vamos criar um novo índice que mostra a diferença de dias entre o registro e o registro mais antigo:"
   ]
  },
  {
   "cell_type": "code",
   "execution_count": 9,
   "metadata": {},
   "outputs": [
    {
     "name": "stdout",
     "output_type": "stream",
     "text": [
      "            High       Low      Open     Close     Volume  Adj Close\n",
      "Date                                                                \n",
      "0 days  7.307692  7.003846  7.026923  7.173076  6222320.0   6.674676\n",
      "1 days  7.180769  6.965384  7.180769  7.030769  6306300.0   6.542256\n",
      "2 days  7.153846  7.003846  7.073076  7.115384  3216980.0   6.620994\n",
      "5 days  7.246153  7.050000  7.115384  7.115384  2085980.0   6.620994\n",
      "6 days  7.357692  7.111538  7.150000  7.230769  4103840.0   6.728361\n",
      "                High        Low   Open      Close      Volume  Adj Close\n",
      "Date                                                                    \n",
      "1819 days  31.320000  29.830000  31.18  29.980000  11274900.0  29.980000\n",
      "1820 days  31.820000  30.230000  30.68  31.629999  12950700.0  31.629999\n",
      "1821 days  31.959999  30.850000  31.85  31.129999   7984900.0  31.129999\n",
      "1822 days  31.549999  29.969999  31.52  30.100000   9529500.0  30.100000\n",
      "1825 days  30.280001  28.480000  29.91  28.940001  12226000.0  28.940001\n"
     ]
    }
   ],
   "source": [
    "weg.index = weg.index - weg.index.min()\n",
    "\n",
    "print(weg.head())\n",
    "print(weg.tail())"
   ]
  },
  {
   "cell_type": "markdown",
   "metadata": {},
   "source": [
    "## Seção 11.10 - Intervalos de datas\n",
    "\n",
    "Algumas vezes uma base de dados não tem todas as datas de um intervalo e queremos registros com todas as datas, mesmo que vazias. Assim, é necessário reindexar a base com todas as datas, criando registros vazios onde não temos. Se for o caso, depois podemos tratar os NaN com alguma técnica conforme o capítulo 5."
   ]
  },
  {
   "cell_type": "code",
   "execution_count": 10,
   "metadata": {},
   "outputs": [
    {
     "name": "stdout",
     "output_type": "stream",
     "text": [
      "--------------------------------------------------------------------------------\n",
      "Tabela ebola original. Repare que não há data 2014-01-01:\n",
      "        Date  Day  Cases_Guinea  Cases_Liberia  Cases_SierraLeone\n",
      "0 2015-01-05  289        2776.0            NaN            10030.0\n",
      "1 2015-01-04  288        2775.0            NaN             9780.0\n",
      "2 2015-01-03  287        2769.0         8166.0             9722.0\n",
      "3 2015-01-02  286           NaN         8157.0                NaN\n",
      "4 2014-12-31  284        2730.0         8115.0             9633.0\n",
      "--------------------------------------------------------------------------------\n",
      "Tabela ebola usando o Date como índice\n",
      "        Date  Day  Cases_Guinea  Cases_Liberia  Cases_SierraLeone\n",
      "0 2015-01-05  289        2776.0            NaN            10030.0\n",
      "1 2015-01-04  288        2775.0            NaN             9780.0\n",
      "2 2015-01-03  287        2769.0         8166.0             9722.0\n",
      "3 2015-01-02  286           NaN         8157.0                NaN\n",
      "4 2014-12-31  284        2730.0         8115.0             9633.0\n",
      "--------------------------------------------------------------------------------\n",
      "Tabela ebola depois de reindexar. Note que foi criado um registro NaN na data de 2014-01-01\n",
      "                 Date    Day  Cases_Guinea  Cases_Liberia  Cases_SierraLeone\n",
      "2014-12-31 2014-12-31  284.0        2730.0         8115.0             9633.0\n",
      "2015-01-01        NaT    NaN           NaN            NaN                NaN\n",
      "2015-01-02 2015-01-02  286.0           NaN         8157.0                NaN\n",
      "2015-01-03 2015-01-03  287.0        2769.0         8166.0             9722.0\n",
      "2015-01-04 2015-01-04  288.0        2775.0            NaN             9780.0\n",
      "2015-01-05 2015-01-05  289.0        2776.0            NaN            10030.0\n"
     ]
    }
   ],
   "source": [
    "ebola = pd.read_csv('../data/country_timeseries.csv', parse_dates=[0])\n",
    "\n",
    "print('-'*80)\n",
    "print('Tabela ebola original. Repare que não há data 2014-01-01:')\n",
    "print(ebola.iloc[:5, :5])\n",
    "\n",
    "print('-'*80)\n",
    "print('Tabela ebola usando o Date como índice')\n",
    "ebola_head = ebola.head()\n",
    "ebola_head.index = ebola_head.Date\n",
    "print(ebola.iloc[:5, :5])\n",
    "\n",
    "print('-'*80)\n",
    "print('Tabela ebola depois de reindexar. Note que foi criado um registro NaN na data de 2014-01-01')\n",
    "head_range = pd.date_range(start='2014-12-31', end='2015-01-05')\n",
    "ebola_head = ebola_head.reindex(head_range)\n",
    "print(ebola_head.iloc[:, :5])"
   ]
  },
  {
   "cell_type": "markdown",
   "metadata": {},
   "source": [
    "Na criação de um objeto DatetimeIndex podemos passar um parâmetro freq que indica os passos que serão usados para gerar as datas entre as datas inicial e final. Podemos escolher apenas dias úteis, primeira segunda feira do mês, apenas ano, segundos etc.\n",
    "\n",
    "## Seção 11.11 - Deslocando valores\n",
    "\n",
    "Em alguns casos é conveniente comparar deslocar valores de diferentes sequências no tempo para colocar uma origem comum. O exemplo dessa seção é no surto de Ebola (e vemos isso sempre na comparação entre países diferentes de qualquer surto).\n",
    "\n",
    "No caso, a base de dados possui dados de casos em vários países, mas cada país começou em uma data diferente. Seria interessante ver como foi o surto como se eles tivessem começado na mesma data, ou seja uniformizar a data de início de todas as séries.\n",
    "\n",
    "Primeiro vamos plotar os dados da base ebola:"
   ]
  },
  {
   "cell_type": "code",
   "execution_count": 11,
   "metadata": {},
   "outputs": [
    {
     "data": {
      "image/png": "[encoded data removed]",
      "text/plain": [
       "<Figure size 720x720 with 1 Axes>"
      ]
     },
     "metadata": {
      "needs_background": "light"
     },
     "output_type": "display_data"
    }
   ],
   "source": [
    "import matplotlib.pyplot as plt\n",
    "\n",
    "ebola.index = ebola.Date\n",
    "\n",
    "fig, ax = plt.subplots()\n",
    "ax = ebola.plot(ax=ax, figsize=(10,10))\n",
    "ax.legend(fontsize=7, loc=2, borderaxespad=0.)\n",
    "plt.show()"
   ]
  },
  {
   "cell_type": "markdown",
   "metadata": {},
   "source": [
    "Pelo gráfico vemos esse comportamento que comentamos: a data de início em cada país é diferente e a comparação fica prejudicada. Então pra gente uniformizar isso podemos fazer o seguinte:\n",
    "\n",
    "- Reindexar a base usando um intervalo com todas as datas disponíveis (note que há dados que não temos data também), apenas para facilitar as coisas.\n",
    "- Calcular a diferença entre a data mais antiga do dataframe e a data válida mais antiga de cada coluna\n",
    "- Deslocar cada coluna de acordo com esse valor calculado.\n",
    "- Nesse ponto todos os registros estariam como se tivessem começado da data mais antiga do dataframe. A partir daí é só uniformizar, convertendo para dia 0, dia 1, dia 2 etc do surto.\n",
    "\n",
    "Com isso teríamos uma base toda deslocada com um mesmo 0 indicando o início do surto em cada país.\n",
    "\n",
    "Note que isso é uma alternativa pra se obter o resultado e ilustrar esses deslocamentos aqui nessa seção. O mesmo resultado poderia ser obtido de outras formas, com outras operações.\n",
    "\n",
    "Vamos começar pelo passo 1 reindexando o dataframe:"
   ]
  },
  {
   "cell_type": "code",
   "execution_count": 12,
   "metadata": {},
   "outputs": [
    {
     "name": "stdout",
     "output_type": "stream",
     "text": [
      "--------------------------------------------------------------------------------\n",
      "Vamos verificar o head e tail do dataframe com suas primeiras 4 colunas:\n",
      "            Day  Cases_Guinea  Cases_Liberia  Cases_SierraLeone\n",
      "Date                                                           \n",
      "2015-01-05  289        2776.0            NaN            10030.0\n",
      "2015-01-04  288        2775.0            NaN             9780.0\n",
      "2015-01-03  287        2769.0         8166.0             9722.0\n",
      "2015-01-02  286           NaN         8157.0                NaN\n",
      "2014-12-31  284        2730.0         8115.0             9633.0\n",
      "            Day  Cases_Guinea  Cases_Liberia  Cases_SierraLeone\n",
      "Date                                                           \n",
      "2014-03-27    5         103.0            8.0                6.0\n",
      "2014-03-26    4          86.0            NaN                NaN\n",
      "2014-03-25    3          86.0            NaN                NaN\n",
      "2014-03-24    2          86.0            NaN                NaN\n",
      "2014-03-22    0          49.0            NaN                NaN\n",
      "Tamanho do dataframe: (122, 17)\n",
      "--------------------------------------------------------------------------------\n",
      "Criando um índice com todas as datas possíveis do início ao fim do dataset\n",
      "DatetimeIndex(['2014-03-22', '2014-03-23', '2014-03-24', '2014-03-25',\n",
      "               '2014-03-26', '2014-03-27', '2014-03-28', '2014-03-29',\n",
      "               '2014-03-30', '2014-03-31',\n",
      "               ...\n",
      "               '2014-12-27', '2014-12-28', '2014-12-29', '2014-12-30',\n",
      "               '2014-12-31', '2015-01-01', '2015-01-02', '2015-01-03',\n",
      "               '2015-01-04', '2015-01-05'],\n",
      "              dtype='datetime64[ns]', length=290, freq='D')\n",
      "--------------------------------------------------------------------------------\n",
      "O índice está da data mais antiga para a mais recente. Vamos inverter para ficar do mais novo pro mais antigo.\n",
      "E vamos também reindexar o dataframe.\n",
      "--------------------------------------------------------------------------------\n",
      "Observe o head e tail do dataframe e suas primeiras 4 colunas e o tanto de novos registros vazios\n",
      "              Day  Cases_Guinea  Cases_Liberia  Cases_SierraLeone\n",
      "Date                                                             \n",
      "2015-01-05  289.0        2776.0            NaN            10030.0\n",
      "2015-01-04  288.0        2775.0            NaN             9780.0\n",
      "2015-01-03  287.0        2769.0         8166.0             9722.0\n",
      "2015-01-02  286.0           NaN         8157.0                NaN\n",
      "2015-01-01    NaN           NaN            NaN                NaN\n",
      "            Day  Cases_Guinea  Cases_Liberia  Cases_SierraLeone\n",
      "Date                                                           \n",
      "2014-03-26  4.0          86.0            NaN                NaN\n",
      "2014-03-25  3.0          86.0            NaN                NaN\n",
      "2014-03-24  2.0          86.0            NaN                NaN\n",
      "2014-03-23  NaN           NaN            NaN                NaN\n",
      "2014-03-22  0.0          49.0            NaN                NaN\n",
      "Tamanho do dataframe: (290, 17)\n"
     ]
    }
   ],
   "source": [
    "# Vamos ler o dataset e atribuir a coluna Date como índice:\n",
    "ebola = pd.read_csv('../data/country_timeseries.csv', index_col='Date', parse_dates=['Date'])\n",
    "\n",
    "print('-'*80)\n",
    "print('Vamos verificar o head e tail do dataframe com suas primeiras 4 colunas:')\n",
    "print(ebola.head().iloc[:, :4])\n",
    "print(ebola.tail().iloc[:, :4])\n",
    "print('Tamanho do dataframe:', ebola.shape)\n",
    "\n",
    "print('-'*80)\n",
    "print('Criando um índice com todas as datas possíveis do início ao fim do dataset')\n",
    "new_idx = pd.date_range(ebola.index.min(), ebola.index.max())\n",
    "print(new_idx)\n",
    "\n",
    "print('-'*80)\n",
    "print('O índice está da data mais antiga para a mais recente. Vamos inverter para ficar do mais novo pro mais antigo.')\n",
    "print('E vamos também reindexar o dataframe.')\n",
    "new_idx = reversed(new_idx)\n",
    "ebola = ebola.reindex(new_idx)\n",
    "\n",
    "print('-'*80)\n",
    "print('Observe o head e tail do dataframe e suas primeiras 4 colunas e o tanto de novos registros vazios')\n",
    "print(ebola.head().iloc[:, :4])\n",
    "print(ebola.tail().iloc[:, :4])\n",
    "print('Tamanho do dataframe:', ebola.shape)\n",
    "\n"
   ]
  },
  {
   "cell_type": "markdown",
   "metadata": {},
   "source": [
    "Uma vez reindexado, o passo seguinte é calcula a diferença entre a data e a data mais antiga em cada coluna. Series possui o método last_valid_index (e também first_valid_index) que pode ser usado para capturar o índice desse valor. Como a ideia é aplicar isso em cada coluna, podemos usar apply:"
   ]
  },
  {
   "cell_type": "code",
   "execution_count": 13,
   "metadata": {},
   "outputs": [
    {
     "name": "stdout",
     "output_type": "stream",
     "text": [
      "Day                   2014-03-22\n",
      "Cases_Guinea          2014-03-22\n",
      "Cases_Liberia         2014-03-27\n",
      "Cases_SierraLeone     2014-03-27\n",
      "Cases_Nigeria         2014-07-23\n",
      "Cases_Senegal         2014-08-31\n",
      "Cases_UnitedStates    2014-10-01\n",
      "Cases_Spain           2014-10-08\n",
      "Cases_Mali            2014-10-22\n",
      "Deaths_Guinea         2014-03-22\n",
      "Deaths_Liberia        2014-03-27\n",
      "Deaths_SierraLeone    2014-03-27\n",
      "Deaths_Nigeria        2014-07-23\n",
      "Deaths_Senegal        2014-09-07\n",
      "Deaths_UnitedStates   2014-10-01\n",
      "Deaths_Spain          2014-10-08\n",
      "Deaths_Mali           2014-10-22\n",
      "dtype: datetime64[ns]\n"
     ]
    }
   ],
   "source": [
    "last_valid = ebola.apply(pd.Series.last_valid_index)\n",
    "print(last_valid)"
   ]
  },
  {
   "cell_type": "markdown",
   "metadata": {},
   "source": [
    "Agora buscamos a data mais antiga do conjunto de dados:"
   ]
  },
  {
   "cell_type": "code",
   "execution_count": 14,
   "metadata": {},
   "outputs": [
    {
     "name": "stdout",
     "output_type": "stream",
     "text": [
      "2014-03-22 00:00:00\n"
     ]
    }
   ],
   "source": [
    "earliest_date = ebola.index.min()\n",
    "print(earliest_date)"
   ]
  },
  {
   "cell_type": "markdown",
   "metadata": {},
   "source": [
    "Agora pegamos a menor data de cada coluna e subtraímos da menor data do dataframe. Isso vai mostrar em quanto cada coluna deve ser deslocada para colocar tudo sobre a mesma origem:"
   ]
  },
  {
   "cell_type": "code",
   "execution_count": 15,
   "metadata": {},
   "outputs": [
    {
     "name": "stdout",
     "output_type": "stream",
     "text": [
      "Day                     0 days\n",
      "Cases_Guinea            0 days\n",
      "Cases_Liberia           5 days\n",
      "Cases_SierraLeone       5 days\n",
      "Cases_Nigeria         123 days\n",
      "Cases_Senegal         162 days\n",
      "Cases_UnitedStates    193 days\n",
      "Cases_Spain           200 days\n",
      "Cases_Mali            214 days\n",
      "Deaths_Guinea           0 days\n",
      "Deaths_Liberia          5 days\n",
      "Deaths_SierraLeone      5 days\n",
      "Deaths_Nigeria        123 days\n",
      "Deaths_Senegal        169 days\n",
      "Deaths_UnitedStates   193 days\n",
      "Deaths_Spain          200 days\n",
      "Deaths_Mali           214 days\n",
      "dtype: timedelta64[ns]\n"
     ]
    }
   ],
   "source": [
    "shift_values = last_valid - earliest_date\n",
    "print(shift_values)"
   ]
  },
  {
   "cell_type": "markdown",
   "metadata": {},
   "source": [
    "Por exemplo, não precisa fazer nada em Cases_Guinea. Mas o dia 9 de Cases_Liberia está no quinto dia da base de dados, ou seja, precisamos \"subir\" os registros de Cases_Liberia em 5 unidades (o registro de índice 5 passa a ser o registro de índice 0 para essa coluna)"
   ]
  },
  {
   "cell_type": "code",
   "execution_count": 16,
   "metadata": {},
   "outputs": [
    {
     "name": "stdout",
     "output_type": "stream",
     "text": [
      "Dataframe ebola:\n",
      "            Day  Cases_Guinea  Cases_Liberia  Cases_SierraLeone\n",
      "Date                                                           \n",
      "2014-03-31  9.0         122.0            8.0                2.0\n",
      "2014-03-30  NaN           NaN            NaN                NaN\n",
      "2014-03-29  7.0         112.0            7.0                NaN\n",
      "2014-03-28  6.0         112.0            3.0                2.0\n",
      "2014-03-27  5.0         103.0            8.0                6.0\n",
      "2014-03-26  4.0          86.0            NaN                NaN\n",
      "2014-03-25  3.0          86.0            NaN                NaN\n",
      "2014-03-24  2.0          86.0            NaN                NaN\n",
      "2014-03-23  NaN           NaN            NaN                NaN\n",
      "2014-03-22  0.0          49.0            NaN                NaN\n",
      "--------------------------------------------------------------------------------\n",
      "Dataframe deslocado:\n",
      "            Day  Cases_Guinea  Cases_Liberia  Cases_SierraLeone\n",
      "Date                                                           \n",
      "2014-03-31  9.0         122.0            NaN                NaN\n",
      "2014-03-30  NaN           NaN           18.0                2.0\n",
      "2014-03-29  7.0         112.0            NaN                NaN\n",
      "2014-03-28  6.0         112.0            NaN                NaN\n",
      "2014-03-27  5.0         103.0            8.0                2.0\n",
      "2014-03-26  4.0          86.0            8.0                2.0\n",
      "2014-03-25  3.0          86.0            NaN                NaN\n",
      "2014-03-24  2.0          86.0            7.0                NaN\n",
      "2014-03-23  NaN           NaN            3.0                2.0\n",
      "2014-03-22  0.0          49.0            8.0                6.0\n"
     ]
    }
   ],
   "source": [
    "# Primeiro desloca as colunas...\n",
    "ebola_dict = {}\n",
    "for idx, col in enumerate(ebola):\n",
    "    d = shift_values[idx].days\n",
    "    shifted = ebola[col].shift(d)\n",
    "    ebola_dict[col] = shifted\n",
    "\n",
    "# ...agora cria um dataframe do pandas...\n",
    "ebola_shift = pd.DataFrame(ebola_dict)\n",
    "\n",
    "# ...e finaliza colocando a mesma ordem de colunas apenas para comparar.\n",
    "ebola_shift = ebola_shift[ebola.columns]\n",
    "\n",
    "# Agora vamos mostrar os primeiros registros dos dois dataframes para ver:\n",
    "print('Dataframe ebola:')\n",
    "print(ebola.tail(10).iloc[:,:4])\n",
    "\n",
    "print('-'*80)\n",
    "print('Dataframe deslocado:')\n",
    "print(ebola_shift.tail(10).iloc[:,:4])"
   ]
  },
  {
   "cell_type": "markdown",
   "metadata": {},
   "source": [
    "Observe que deslocamos tudo como se tivesse começado no dia mais antigo do dataframe (22/03/2014). Obviamente essa informação do índice agora está desatualizada, visto que ela as variáveis agora não estão relacionadas a data, e sim ao dia que tudo começou. Então vamos corrigir o índice:"
   ]
  },
  {
   "cell_type": "code",
   "execution_count": 17,
   "metadata": {},
   "outputs": [
    {
     "name": "stdout",
     "output_type": "stream",
     "text": [
      "     Cases_Guinea  Cases_Liberia  Cases_SierraLeone  Cases_Nigeria  \\\n",
      "Day                                                                  \n",
      "4.0          86.0            8.0                2.0            1.0   \n",
      "3.0          86.0            NaN                NaN            NaN   \n",
      "2.0          86.0            7.0                NaN            NaN   \n",
      "NaN           NaN            3.0                2.0            NaN   \n",
      "0.0          49.0            8.0                6.0            0.0   \n",
      "\n",
      "     Cases_Senegal  Cases_UnitedStates  Cases_Spain  Cases_Mali  \\\n",
      "Day                                                               \n",
      "4.0            NaN                 1.0          1.0         NaN   \n",
      "3.0            NaN                 NaN          NaN         NaN   \n",
      "2.0            NaN                 NaN          NaN         NaN   \n",
      "NaN            NaN                 NaN          NaN         NaN   \n",
      "0.0            1.0                 1.0          1.0         1.0   \n",
      "\n",
      "     Deaths_Guinea  Deaths_Liberia  Deaths_SierraLeone  Deaths_Nigeria  \\\n",
      "Day                                                                      \n",
      "4.0           62.0             4.0                 2.0             1.0   \n",
      "3.0           60.0             NaN                 NaN             NaN   \n",
      "2.0           59.0             2.0                 NaN             NaN   \n",
      "NaN            NaN             3.0                 2.0             NaN   \n",
      "0.0           29.0             6.0                 5.0             0.0   \n",
      "\n",
      "     Deaths_Senegal  Deaths_UnitedStates  Deaths_Spain  Deaths_Mali  \n",
      "Day                                                                  \n",
      "4.0             NaN                  0.0           1.0          NaN  \n",
      "3.0             NaN                  NaN           NaN          NaN  \n",
      "2.0             NaN                  NaN           NaN          NaN  \n",
      "NaN             NaN                  NaN           NaN          NaN  \n",
      "0.0             0.0                  0.0           1.0          1.0  \n"
     ]
    }
   ],
   "source": [
    "ebola_shift.index = ebola_shift.Day\n",
    "ebola_shift = ebola_shift.drop(['Day'], axis=1)\n",
    "\n",
    "print(ebola_shift.tail())"
   ]
  }
 ],
 "metadata": {
  "kernelspec": {
   "display_name": "Python 3",
   "language": "python",
   "name": "python3"
  },
  "language_info": {
   "codemirror_mode": {
    "name": "ipython",
    "version": 3
   },
   "file_extension": ".py",
   "mimetype": "text/x-python",
   "name": "python",
   "nbconvert_exporter": "python",
   "pygments_lexer": "ipython3",
   "version": "3.8.5"
  }
 },
 "nbformat": 4,
 "nbformat_minor": 4
}
