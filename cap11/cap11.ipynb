{
 "cells": [
  {
   "cell_type": "markdown",
   "metadata": {},
   "source": [
    "# Capítulo 11 - Tipo de dados datetime\n",
    "\n",
    "## Seção 11.2 - Objeto datetime do Python\n",
    "\n",
    "Existe a biblioteca datetime para trabalhar com data/hora:"
   ]
  },
  {
   "cell_type": "code",
   "execution_count": 5,
   "metadata": {},
   "outputs": [
    {
     "name": "stdout",
     "output_type": "stream",
     "text": [
      "Hoje: 2022-04-27 17:35:40.359324\n",
      "Dias desde o nascimento: 14442 days, 17:35:40.359324\n"
     ]
    }
   ],
   "source": [
    "from datetime import datetime\n",
    "\n",
    "hoje = datetime.now()\n",
    "\n",
    "print('Hoje:', hoje)\n",
    "\n",
    "nascimento = datetime(1982, 10, 12)\n",
    "\n",
    "print('Dias desde o nascimento:', hoje - nascimento)"
   ]
  },
  {
   "cell_type": "markdown",
   "metadata": {},
   "source": [
    "## Seção 11.3 - Conversão para datetime\n",
    "\n",
    "Podemos usar a função to_datetime para converter um objeto para datetime:"
   ]
  },
  {
   "cell_type": "code",
   "execution_count": 9,
   "metadata": {},
   "outputs": [
    {
     "name": "stdout",
     "output_type": "stream",
     "text": [
      "Início do dataframe Ebola:\n",
      "         Date  Day  Cases_Guinea  Cases_Liberia  Cases_SierraLeone\n",
      "0    1/5/2015  289        2776.0            NaN            10030.0\n",
      "1    1/4/2015  288        2775.0            NaN             9780.0\n",
      "2    1/3/2015  287        2769.0         8166.0             9722.0\n",
      "3    1/2/2015  286           NaN         8157.0                NaN\n",
      "4  12/31/2014  284        2730.0         8115.0             9633.0\n",
      "-------------------------------------------------------\n",
      "Note que o tipo da coluna Date é object (nesse caso é uma string genérica):\n",
      "<class 'pandas.core.frame.DataFrame'>\n",
      "RangeIndex: 122 entries, 0 to 121\n",
      "Data columns (total 18 columns):\n",
      " #   Column               Non-Null Count  Dtype  \n",
      "---  ------               --------------  -----  \n",
      " 0   Date                 122 non-null    object \n",
      " 1   Day                  122 non-null    int64  \n",
      " 2   Cases_Guinea         93 non-null     float64\n",
      " 3   Cases_Liberia        83 non-null     float64\n",
      " 4   Cases_SierraLeone    87 non-null     float64\n",
      " 5   Cases_Nigeria        38 non-null     float64\n",
      " 6   Cases_Senegal        25 non-null     float64\n",
      " 7   Cases_UnitedStates   18 non-null     float64\n",
      " 8   Cases_Spain          16 non-null     float64\n",
      " 9   Cases_Mali           12 non-null     float64\n",
      " 10  Deaths_Guinea        92 non-null     float64\n",
      " 11  Deaths_Liberia       81 non-null     float64\n",
      " 12  Deaths_SierraLeone   87 non-null     float64\n",
      " 13  Deaths_Nigeria       38 non-null     float64\n",
      " 14  Deaths_Senegal       22 non-null     float64\n",
      " 15  Deaths_UnitedStates  18 non-null     float64\n",
      " 16  Deaths_Spain         16 non-null     float64\n",
      " 17  Deaths_Mali          12 non-null     float64\n",
      "dtypes: float64(16), int64(1), object(1)\n",
      "memory usage: 17.3+ KB\n",
      "None\n",
      "-------------------------------------------------------\n",
      "Criando a coluna date_dt com o tipodatetime:\n",
      "<class 'pandas.core.frame.DataFrame'>\n",
      "RangeIndex: 122 entries, 0 to 121\n",
      "Data columns (total 19 columns):\n",
      " #   Column               Non-Null Count  Dtype         \n",
      "---  ------               --------------  -----         \n",
      " 0   Date                 122 non-null    object        \n",
      " 1   Day                  122 non-null    int64         \n",
      " 2   Cases_Guinea         93 non-null     float64       \n",
      " 3   Cases_Liberia        83 non-null     float64       \n",
      " 4   Cases_SierraLeone    87 non-null     float64       \n",
      " 5   Cases_Nigeria        38 non-null     float64       \n",
      " 6   Cases_Senegal        25 non-null     float64       \n",
      " 7   Cases_UnitedStates   18 non-null     float64       \n",
      " 8   Cases_Spain          16 non-null     float64       \n",
      " 9   Cases_Mali           12 non-null     float64       \n",
      " 10  Deaths_Guinea        92 non-null     float64       \n",
      " 11  Deaths_Liberia       81 non-null     float64       \n",
      " 12  Deaths_SierraLeone   87 non-null     float64       \n",
      " 13  Deaths_Nigeria       38 non-null     float64       \n",
      " 14  Deaths_Senegal       22 non-null     float64       \n",
      " 15  Deaths_UnitedStates  18 non-null     float64       \n",
      " 16  Deaths_Spain         16 non-null     float64       \n",
      " 17  Deaths_Mali          12 non-null     float64       \n",
      " 18  date_dt              122 non-null    datetime64[ns]\n",
      "dtypes: datetime64[ns](1), float64(16), int64(1), object(1)\n",
      "memory usage: 18.2+ KB\n",
      "None\n"
     ]
    }
   ],
   "source": [
    "import pandas as pd\n",
    "\n",
    "ebola = pd.read_csv('../data/country_timeseries.csv')\n",
    "\n",
    "print('Início do dataframe Ebola:')\n",
    "print(ebola.iloc[:5, :5])\n",
    "\n",
    "print('-------------------------------------------------------')\n",
    "print('Note que o tipo da coluna Date é object (nesse caso é uma string genérica):')\n",
    "print(ebola.info())\n",
    "\n",
    "print('-------------------------------------------------------')\n",
    "print('Criando a coluna date_dt com o tipodatetime:')\n",
    "ebola['date_dt'] = pd.to_datetime(ebola['Date'], format='%m/%d/%Y')\n",
    "print(ebola.info())"
   ]
  },
  {
   "cell_type": "markdown",
   "metadata": {},
   "source": [
    "Ao abrir um arquivo usando read_csv nós podemos já especificar as colunas de data e como o pandas deve ler o formato de data:"
   ]
  },
  {
   "cell_type": "code",
   "execution_count": 16,
   "metadata": {},
   "outputs": [
    {
     "name": "stdout",
     "output_type": "stream",
     "text": [
      "O tipo do primeiro registro da primeira coluna (Date) é: <class 'pandas._libs.tslibs.timestamps.Timestamp'>\n",
      "-------------------------------------------------------\n",
      "Vendo o info depois de ler o csv:\n",
      "<class 'pandas.core.frame.DataFrame'>\n",
      "RangeIndex: 122 entries, 0 to 121\n",
      "Data columns (total 18 columns):\n",
      " #   Column               Non-Null Count  Dtype         \n",
      "---  ------               --------------  -----         \n",
      " 0   Date                 122 non-null    datetime64[ns]\n",
      " 1   Day                  122 non-null    int64         \n",
      " 2   Cases_Guinea         93 non-null     float64       \n",
      " 3   Cases_Liberia        83 non-null     float64       \n",
      " 4   Cases_SierraLeone    87 non-null     float64       \n",
      " 5   Cases_Nigeria        38 non-null     float64       \n",
      " 6   Cases_Senegal        25 non-null     float64       \n",
      " 7   Cases_UnitedStates   18 non-null     float64       \n",
      " 8   Cases_Spain          16 non-null     float64       \n",
      " 9   Cases_Mali           12 non-null     float64       \n",
      " 10  Deaths_Guinea        92 non-null     float64       \n",
      " 11  Deaths_Liberia       81 non-null     float64       \n",
      " 12  Deaths_SierraLeone   87 non-null     float64       \n",
      " 13  Deaths_Nigeria       38 non-null     float64       \n",
      " 14  Deaths_Senegal       22 non-null     float64       \n",
      " 15  Deaths_UnitedStates  18 non-null     float64       \n",
      " 16  Deaths_Spain         16 non-null     float64       \n",
      " 17  Deaths_Mali          12 non-null     float64       \n",
      "dtypes: datetime64[ns](1), float64(16), int64(1)\n",
      "memory usage: 17.3 KB\n",
      "None\n"
     ]
    }
   ],
   "source": [
    "ebola = pd.read_csv('../data/country_timeseries.csv', parse_dates=[0])\n",
    "\n",
    "print('O tipo do primeiro registro da primeira coluna (Date) é:', type(ebola.iloc[0, 0]))\n",
    "print('-------------------------------------------------------')\n",
    "print('Vendo o info depois de ler o csv:')\n",
    "print(ebola.info())"
   ]
  },
  {
   "cell_type": "markdown",
   "metadata": {},
   "source": [
    "## Seção 11.5 - Extraindo componentes de datas\n",
    "\n",
    "Podemos extrair partes do datetime. Por exemplo, o dia, hora, minuto, segundo, mês etc:"
   ]
  },
  {
   "cell_type": "code",
   "execution_count": 18,
   "metadata": {},
   "outputs": [
    {
     "name": "stdout",
     "output_type": "stream",
     "text": [
      "Hoje é dia 27 do mês 4. Estamos no ano de 2022.\n"
     ]
    }
   ],
   "source": [
    "print(f'Hoje é dia {hoje.day} do mês {hoje.month}. Estamos no ano de {hoje.year}.')"
   ]
  },
  {
   "cell_type": "markdown",
   "metadata": {},
   "source": [
    "## Seção 11.6 - Cálculos com datas e timedeltas"
   ]
  },
  {
   "cell_type": "code",
   "execution_count": 30,
   "metadata": {},
   "outputs": [
    {
     "name": "stdout",
     "output_type": "stream",
     "text": [
      "        Date  Day Day_calculado\n",
      "0 2015-01-05  289      289 days\n",
      "1 2015-01-04  288      288 days\n",
      "2 2015-01-03  287      287 days\n",
      "3 2015-01-02  286      286 days\n",
      "4 2014-12-31  284      284 days\n",
      "---------------------------------------------\n",
      "Tipo de objeto da coluna Day_calculado: timedelta64[ns]\n"
     ]
    }
   ],
   "source": [
    "inicio_surto = ebola.Date.min()\n",
    "\n",
    "ebola['Day_calculado'] = ebola.Date - inicio_surto\n",
    "\n",
    "print(ebola[['Date', 'Day', 'Day_calculado']].head())\n",
    "\n",
    "print('---------------------------------------------')\n",
    "print('Tipo de objeto da coluna Day_calculado:', ebola.Day_calculado.dtype)"
   ]
  },
  {
   "cell_type": "markdown",
   "metadata": {},
   "source": [
    "## Seção 11.7 - Método de datetime"
   ]
  },
  {
   "cell_type": "code",
   "execution_count": 43,
   "metadata": {},
   "outputs": [
    {
     "name": "stdout",
     "output_type": "stream",
     "text": [
      "<class 'pandas.core.frame.DataFrame'>\n",
      "RangeIndex: 553 entries, 0 to 552\n",
      "Data columns (total 7 columns):\n",
      " #   Column                 Non-Null Count  Dtype         \n",
      "---  ------                 --------------  -----         \n",
      " 0   Bank Name              553 non-null    object        \n",
      " 1   City                   553 non-null    object        \n",
      " 2   ST                     553 non-null    object        \n",
      " 3   CERT                   553 non-null    int64         \n",
      " 4   Acquiring Institution  553 non-null    object        \n",
      " 5   Closing Date           553 non-null    datetime64[ns]\n",
      " 6   Updated Date           553 non-null    datetime64[ns]\n",
      "dtypes: datetime64[ns](2), int64(1), object(4)\n",
      "memory usage: 30.4+ KB\n",
      "None\n",
      "----------------------------------------------------------------------\n",
      "Vamos calcular o trimestre e o ano do fechamento...\n",
      "Vamos agrupar por ano/trimestre de fechamento...\n",
      "E imprimir os resultados...\n"
     ]
    },
    {
     "data": {
      "text/plain": [
       "<AxesSubplot:xlabel='closing_year,closing_quarter'>"
      ]
     },
     "execution_count": 43,
     "metadata": {},
     "output_type": "execute_result"
    },
    {
     "data": {
      "image/png": "[encoded data removed]",
      "text/plain": [
       "<Figure size 432x288 with 1 Axes>"
      ]
     },
     "metadata": {
      "needs_background": "light"
     },
     "output_type": "display_data"
    },
    {
     "data": {
      "image/png": "[encoded data removed]",
      "text/plain": [
       "<Figure size 432x288 with 1 Axes>"
      ]
     },
     "metadata": {
      "needs_background": "light"
     },
     "output_type": "display_data"
    }
   ],
   "source": [
    "import matplotlib.pyplot as plt\n",
    "\n",
    "# Contjunto de dados banklist trata de falências bancárias:\n",
    "banks = pd.read_csv('../data/banklist.csv', parse_dates=[5, 6])\n",
    "print(banks.info())\n",
    "\n",
    "print('-'*70)\n",
    "print('Vamos calcular o trimestre e o ano do fechamento...')\n",
    "banks['closing_quarter'], banks['closing_year'] = (banks['Closing Date'].dt.quarter, banks['Closing Date'].dt.year)\n",
    "print('Vamos agrupar por ano/trimestre de fechamento...')\n",
    "closing_year = banks.groupby(['closing_year']).size()\n",
    "closing_year_quarter = banks.groupby(['closing_year', 'closing_quarter']).size()\n",
    "print('E imprimir os resultados...')\n",
    "\n",
    "plt.subplots()\n",
    "closing_year.plot()\n",
    "\n",
    "plt.subplots()\n",
    "closing_year_quarter.plot()"
   ]
  },
  {
   "cell_type": "markdown",
   "metadata": {},
   "source": [
    "## Seção 11.8 - Obtendo dados de ações\n",
    "\n",
    "Para obter dados de ações podemos usar o método pandas_datareader para ler dados da internet. Esse objeto tem o método get_data_yahoo, que faz download das cotações do Yahoo Finance. Uma lista dos data readers disponíveis estão aqui: https://pandas-datareader.readthedocs.io/en/latest/readers/index.html"
   ]
  },
  {
   "cell_type": "code",
   "execution_count": 99,
   "metadata": {},
   "outputs": [
    {
     "data": {
      "text/html": [
       "<div>\n",
       "<style scoped>\n",
       "    .dataframe tbody tr th:only-of-type {\n",
       "        vertical-align: middle;\n",
       "    }\n",
       "\n",
       "    .dataframe tbody tr th {\n",
       "        vertical-align: top;\n",
       "    }\n",
       "\n",
       "    .dataframe thead th {\n",
       "        text-align: right;\n",
       "    }\n",
       "</style>\n",
       "<table border=\"1\" class=\"dataframe\">\n",
       "  <thead>\n",
       "    <tr style=\"text-align: right;\">\n",
       "      <th></th>\n",
       "      <th>High</th>\n",
       "      <th>Low</th>\n",
       "      <th>Open</th>\n",
       "      <th>Close</th>\n",
       "      <th>Volume</th>\n",
       "      <th>Adj Close</th>\n",
       "    </tr>\n",
       "    <tr>\n",
       "      <th>Date</th>\n",
       "      <th></th>\n",
       "      <th></th>\n",
       "      <th></th>\n",
       "      <th></th>\n",
       "      <th></th>\n",
       "      <th></th>\n",
       "    </tr>\n",
       "  </thead>\n",
       "  <tbody>\n",
       "    <tr>\n",
       "      <th>2022-04-20</th>\n",
       "      <td>31.930000</td>\n",
       "      <td>31.26</td>\n",
       "      <td>31.440001</td>\n",
       "      <td>31.420000</td>\n",
       "      <td>5515500.0</td>\n",
       "      <td>31.420000</td>\n",
       "    </tr>\n",
       "    <tr>\n",
       "      <th>2022-04-22</th>\n",
       "      <td>31.510000</td>\n",
       "      <td>30.59</td>\n",
       "      <td>30.830000</td>\n",
       "      <td>31.309999</td>\n",
       "      <td>10587900.0</td>\n",
       "      <td>31.309999</td>\n",
       "    </tr>\n",
       "    <tr>\n",
       "      <th>2022-04-25</th>\n",
       "      <td>31.620001</td>\n",
       "      <td>30.92</td>\n",
       "      <td>31.030001</td>\n",
       "      <td>31.209999</td>\n",
       "      <td>5920900.0</td>\n",
       "      <td>31.209999</td>\n",
       "    </tr>\n",
       "    <tr>\n",
       "      <th>2022-04-26</th>\n",
       "      <td>31.320000</td>\n",
       "      <td>29.83</td>\n",
       "      <td>31.180000</td>\n",
       "      <td>29.980000</td>\n",
       "      <td>11274900.0</td>\n",
       "      <td>29.980000</td>\n",
       "    </tr>\n",
       "    <tr>\n",
       "      <th>2022-04-27</th>\n",
       "      <td>31.820000</td>\n",
       "      <td>30.23</td>\n",
       "      <td>30.680000</td>\n",
       "      <td>31.629999</td>\n",
       "      <td>12940500.0</td>\n",
       "      <td>31.629999</td>\n",
       "    </tr>\n",
       "  </tbody>\n",
       "</table>\n",
       "</div>"
      ],
      "text/plain": [
       "                 High    Low       Open      Close      Volume  Adj Close\n",
       "Date                                                                     \n",
       "2022-04-20  31.930000  31.26  31.440001  31.420000   5515500.0  31.420000\n",
       "2022-04-22  31.510000  30.59  30.830000  31.309999  10587900.0  31.309999\n",
       "2022-04-25  31.620001  30.92  31.030001  31.209999   5920900.0  31.209999\n",
       "2022-04-26  31.320000  29.83  31.180000  29.980000  11274900.0  29.980000\n",
       "2022-04-27  31.820000  30.23  30.680000  31.629999  12940500.0  31.629999"
      ]
     },
     "execution_count": 99,
     "metadata": {},
     "output_type": "execute_result"
    }
   ],
   "source": [
    "import pandas_datareader as pdr\n",
    "\n",
    "weg = pdr.get_data_yahoo('WEGE3.SA')\n",
    "weg.tail()"
   ]
  },
  {
   "cell_type": "markdown",
   "metadata": {},
   "source": [
    "## Seção 11.9 - Obtendo subconjuntos de dados com base em datas\n",
    "\n",
    "Podemos usar filtrage por booleano ou outra forma de filtragem para operações com datas.\n",
    "\n",
    "O get_data_yahoo traz o índice por data. Por isso do jeito que está o livro não funciona, pois nessa seção ele pega os dados salvos de um csv. As alternativas são fazer a operação diretamente no índice ou reiniciar o índice para criar uma coluna de data e fazer a comparação nessa coluna:"
   ]
  },
  {
   "cell_type": "code",
   "execution_count": 100,
   "metadata": {},
   "outputs": [
    {
     "name": "stdout",
     "output_type": "stream",
     "text": [
      "----------------------------------------------------------------------\n",
      "Fazendo a operação diretamente no índice: \n",
      "                 High    Low       Open      Close      Volume  Adj Close\n",
      "Date                                                                     \n",
      "2022-04-20  31.930000  31.26  31.440001  31.420000   5515500.0  31.420000\n",
      "2022-04-22  31.510000  30.59  30.830000  31.309999  10587900.0  31.309999\n",
      "2022-04-25  31.620001  30.92  31.030001  31.209999   5920900.0  31.209999\n",
      "2022-04-26  31.320000  29.83  31.180000  29.980000  11274900.0  29.980000\n",
      "2022-04-27  31.820000  30.23  30.680000  31.629999  12940500.0  31.629999\n",
      "----------------------------------------------------------------------\n",
      "Na verdade, como os índices são do tipo DatetimeIndex, podemos fazer logo a seleção por yyyy-mm:\n",
      "                 High    Low       Open      Close      Volume  Adj Close\n",
      "Date                                                                     \n",
      "2022-04-20  31.930000  31.26  31.440001  31.420000   5515500.0  31.420000\n",
      "2022-04-22  31.510000  30.59  30.830000  31.309999  10587900.0  31.309999\n",
      "2022-04-25  31.620001  30.92  31.030001  31.209999   5920900.0  31.209999\n",
      "2022-04-26  31.320000  29.83  31.180000  29.980000  11274900.0  29.980000\n",
      "2022-04-27  31.820000  30.23  30.680000  31.629999  12940500.0  31.629999\n",
      "----------------------------------------------------------------------\n",
      "Reiniciando o índice: \n",
      "           Date       High    Low       Open      Close      Volume  Adj Close\n",
      "1238 2022-04-20  31.930000  31.26  31.440001  31.420000   5515500.0  31.420000\n",
      "1239 2022-04-22  31.510000  30.59  30.830000  31.309999  10587900.0  31.309999\n",
      "1240 2022-04-25  31.620001  30.92  31.030001  31.209999   5920900.0  31.209999\n",
      "1241 2022-04-26  31.320000  29.83  31.180000  29.980000  11274900.0  29.980000\n",
      "1242 2022-04-27  31.820000  30.23  30.680000  31.629999  12940500.0  31.629999\n"
     ]
    }
   ],
   "source": [
    "print('-'*70)\n",
    "print('Fazendo a operação diretamente no índice: ')\n",
    "weg_abril_2022 = weg.loc[ (weg.index.year == 2022) & (weg.index.month == 4)]\n",
    "print(weg_abril_2022.tail())\n",
    "\n",
    "print('-'*70)\n",
    "print('Na verdade, como os índices são do tipo DatetimeIndex, podemos fazer logo a seleção por yyyy-mm:')\n",
    "weg_abril_2022 = weg['2022-04']\n",
    "print(weg_abril_2022.tail())\n",
    "\n",
    "\n",
    "print('-'*70)\n",
    "print('Reiniciando o índice: ')\n",
    "weg_reset_index = weg.reset_index()\n",
    "\n",
    "weg_abril_2022_reset_index = weg_reset_index[ (weg_reset_index.Date.dt.year == 2022) & (weg_reset_index.Date.dt.month == 4)]\n",
    "print(weg_abril_2022_reset_index.tail())"
   ]
  },
  {
   "cell_type": "markdown",
   "metadata": {},
   "source": [
    "Note que poderíamos usar um TimedeltaIndex também pra tratar deslocamentos de data. Por exemplo, vamos criar um novo índice que mostra a diferença de dias entre o registro e o registro mais antigo:"
   ]
  },
  {
   "cell_type": "code",
   "execution_count": 104,
   "metadata": {},
   "outputs": [
    {
     "name": "stdout",
     "output_type": "stream",
     "text": [
      "            High       Low      Open     Close     Volume  Adj Close\n",
      "Date                                                                \n",
      "0 days  6.853846  6.700000  6.765384  6.807692  4337580.0   6.334679\n",
      "4 days  7.019230  6.788461  6.834615  6.992307  5382000.0   6.506468\n",
      "5 days  7.307692  7.003846  7.026923  7.173076  6222320.0   6.674675\n",
      "6 days  7.180769  6.965384  7.180769  7.030769  6306300.0   6.542257\n",
      "7 days  7.153846  7.003846  7.073076  7.115384  3216980.0   6.620991\n",
      "                High    Low       Open      Close      Volume  Adj Close\n",
      "Date                                                                    \n",
      "1818 days  31.930000  31.26  31.440001  31.420000   5515500.0  31.420000\n",
      "1820 days  31.510000  30.59  30.830000  31.309999  10587900.0  31.309999\n",
      "1823 days  31.620001  30.92  31.030001  31.209999   5920900.0  31.209999\n",
      "1824 days  31.320000  29.83  31.180000  29.980000  11274900.0  29.980000\n",
      "1825 days  31.820000  30.23  30.680000  31.629999  12940500.0  31.629999\n"
     ]
    }
   ],
   "source": [
    "weg.index = weg.index - weg.index.min()\n",
    "\n",
    "print(weg.head())\n",
    "print(weg.tail())"
   ]
  },
  {
   "cell_type": "markdown",
   "metadata": {},
   "source": [
    "## Seção 11.10 - Intervalos de datas\n"
   ]
  }
 ],
 "metadata": {
  "kernelspec": {
   "display_name": "Python 3",
   "language": "python",
   "name": "python3"
  },
  "language_info": {
   "codemirror_mode": {
    "name": "ipython",
    "version": 3
   },
   "file_extension": ".py",
   "mimetype": "text/x-python",
   "name": "python",
   "nbconvert_exporter": "python",
   "pygments_lexer": "ipython3",
   "version": "3.8.5"
  }
 },
 "nbformat": 4,
 "nbformat_minor": 4
}
