{
 "cells": [
  {
   "cell_type": "markdown",
   "metadata": {},
   "source": [
    "# Capítulo 2 - Estruturas de dados do pandas"
   ]
  },
  {
   "cell_type": "markdown",
   "metadata": {},
   "source": [
    "## Seção 2 - Criando seus próprios dados\n",
    "\n",
    "Para criar uma série no pandas podemos passar uma lista. Toda a série será classificada como de um tipo. Caso passemos uma lista com tipos misturados, o dtype será um object."
   ]
  },
  {
   "cell_type": "code",
   "execution_count": 1,
   "metadata": {},
   "outputs": [
    {
     "name": "stdout",
     "output_type": "stream",
     "text": [
      "0    banana\n",
      "1        42\n",
      "dtype: object\n"
     ]
    }
   ],
   "source": [
    "import pandas as pd\n",
    "\n",
    "s = pd.Series(['banana', 42])\n",
    "print(s)"
   ]
  },
  {
   "cell_type": "markdown",
   "metadata": {},
   "source": [
    "Na exibição da lista o número da linha é exibido à esquerda. Isso na verdade é o índice da série. Podemos dar nomes para os índices."
   ]
  },
  {
   "cell_type": "code",
   "execution_count": 2,
   "metadata": {},
   "outputs": [
    {
     "name": "stdout",
     "output_type": "stream",
     "text": [
      "Fruta                               banana\n",
      "Resposta para todas as perguntas        42\n",
      "dtype: object\n"
     ]
    }
   ],
   "source": [
    "s = pd.Series(['banana', 42], ['Fruta', 'Resposta para todas as perguntas'])\n",
    "print(s)"
   ]
  },
  {
   "cell_type": "markdown",
   "metadata": {},
   "source": [
    "Podemos passar outros tipos de containers para a criação de uma Series. No caso de um dict, as chaves comporão o index e os valores a série."
   ]
  },
  {
   "cell_type": "code",
   "execution_count": 3,
   "metadata": {},
   "outputs": [
    {
     "name": "stdout",
     "output_type": "stream",
     "text": [
      "Fruta       banana\n",
      "Resposta        42\n",
      "dtype: object\n"
     ]
    }
   ],
   "source": [
    "dict_banana_42 = {'Fruta': 'banana', 'Resposta': 42}\n",
    "print(pd.Series(dict_banana_42))"
   ]
  },
  {
   "cell_type": "markdown",
   "metadata": {},
   "source": [
    "Se passarmos também um index, tudo será reindexado de acordo com a nova ordem dos índices. Por exemplo, na linha abaixo mudamos a 'Fruta' para a segunda posição e criamos uma nova entrada com 'nova_chave'. A entrada referente a 'Fruta' permanece como banana. A 'nova_chave' fica com NaN pois não existia originalmente."
   ]
  },
  {
   "cell_type": "code",
   "execution_count": 4,
   "metadata": {},
   "outputs": [
    {
     "name": "stdout",
     "output_type": "stream",
     "text": [
      "nova_chave       NaN\n",
      "Fruta         banana\n",
      "dtype: object\n"
     ]
    }
   ],
   "source": [
    "print(pd.Series(dict_banana_42, index=['nova_chave', 'Fruta']))"
   ]
  },
  {
   "cell_type": "markdown",
   "metadata": {},
   "source": [
    "Podemos criar um dataframe a partir de um dicionário de listas"
   ]
  },
  {
   "cell_type": "code",
   "execution_count": 5,
   "metadata": {},
   "outputs": [
    {
     "name": "stdout",
     "output_type": "stream",
     "text": [
      "                Nome Ocupação  Idade\n",
      "0           Einstein   Físico     37\n",
      "1  Rosaline Franklin  Química     61\n"
     ]
    }
   ],
   "source": [
    "cientistas = pd.DataFrame({\n",
    "    'Nome': ['Einstein', 'Rosaline Franklin'],\n",
    "    'Ocupação': ['Físico', 'Química'],\n",
    "    'Idade': [37, 61]\n",
    "})\n",
    "print(cientistas)"
   ]
  },
  {
   "cell_type": "markdown",
   "metadata": {},
   "source": [
    "Podemos definir a ordem a partir do parâmetro columns. Se for o caso, podemos também nomear as linhas (index)"
   ]
  },
  {
   "cell_type": "code",
   "execution_count": 6,
   "metadata": {},
   "outputs": [
    {
     "name": "stdout",
     "output_type": "stream",
     "text": [
      "                   Idade Ocupação\n",
      "Einstein              37   Físico\n",
      "Rosaline Franklin     61  Química\n"
     ]
    }
   ],
   "source": [
    "cientistas = pd.DataFrame({\n",
    "    'Ocupação': ['Físico', 'Química'],\n",
    "    'Idade': [37, 61]},\n",
    "    index=['Einstein', 'Rosaline Franklin'],\n",
    "    columns=['Idade', 'Ocupação'])\n",
    "print(cientistas)"
   ]
  },
  {
   "cell_type": "markdown",
   "metadata": {},
   "source": [
    "## Seção 3 - Series\n",
    "\n",
    "O acesso a uma linha do dataframe retorna um objeto do tipo Series:"
   ]
  },
  {
   "cell_type": "code",
   "execution_count": 7,
   "metadata": {},
   "outputs": [
    {
     "name": "stdout",
     "output_type": "stream",
     "text": [
      "<class 'pandas.core.series.Series'>\n",
      "Idade           37\n",
      "Ocupação    Físico\n",
      "Name: Einstein, dtype: object\n"
     ]
    }
   ],
   "source": [
    "primeira_linha = cientistas.loc['Einstein']\n",
    "print(type(primeira_linha))\n",
    "print(primeira_linha)"
   ]
  },
  {
   "cell_type": "markdown",
   "metadata": {},
   "source": [
    "A série tem um atributo index que retorna o nome dos índices e um atributo values que retorna os valores. Existe também o método keys() que nada mais é que um alias para o index."
   ]
  },
  {
   "cell_type": "code",
   "execution_count": 8,
   "metadata": {},
   "outputs": [
    {
     "name": "stdout",
     "output_type": "stream",
     "text": [
      "Index(['Idade', 'Ocupação'], dtype='object')\n",
      "Index(['Idade', 'Ocupação'], dtype='object')\n",
      "[37 'Físico']\n"
     ]
    }
   ],
   "source": [
    "print(primeira_linha.index)\n",
    "print(primeira_linha.keys())\n",
    "\n",
    "print(primeira_linha.values)"
   ]
  },
  {
   "cell_type": "markdown",
   "metadata": {},
   "source": [
    "Uma série é muito semelhante a um ndarray. Muitos métodos de ndarray se aplicam também a uma série. Quando uma série é numérica, podemos aplicar diretamente alguns métodos (min, max, median, std etc):"
   ]
  },
  {
   "cell_type": "code",
   "execution_count": 9,
   "metadata": {},
   "outputs": [
    {
     "name": "stdout",
     "output_type": "stream",
     "text": [
      "37\n",
      "49.0\n",
      "61\n"
     ]
    }
   ],
   "source": [
    "idades = cientistas['Idade']\n",
    "print(idades.min())\n",
    "print(idades.mean())\n",
    "print(idades.max())"
   ]
  },
  {
   "cell_type": "markdown",
   "metadata": {},
   "source": [
    "A seleção de dados feita com loc/iloc presume que sabemos exatamente o que queremos acessar (o índice, por exemplo). Obviamente para encontrar o índice fazemos algum pré-processamento em busca de alguma informação. Por exemplo, se quisermos encontrar todos os cientistas que tem mais de 50 anos o jeito tradicional é fazer um loop no vetor de idade encontrando os índices referentes a idades maiores do que 50 e, aí sim, usar os índices para acessar os objetos.\n",
    "\n",
    "Com pandas podemos acessar os objetos de uma série ou dataframe através de booleanos que representam se queremos que o objeto seja incluído ou não no retorno. E esses booleanos podem ser calculados através de operações sobre as séries de um dataframe. Para exemplificar, vamos aplicar essa ideia no exemplo de separar os cientistas com mais de 50 anos.\n",
    "\n",
    "Primeiro vamos ler um arquivo com mais dados do que o nosso exemplo inicial com apenas dois registros e mostrar as idades de todos eles:"
   ]
  },
  {
   "cell_type": "code",
   "execution_count": 10,
   "metadata": {},
   "outputs": [
    {
     "name": "stdout",
     "output_type": "stream",
     "text": [
      "0    37\n",
      "1    61\n",
      "2    90\n",
      "3    66\n",
      "4    56\n",
      "5    45\n",
      "6    41\n",
      "7    77\n",
      "Name: Age, dtype: int64\n"
     ]
    },
    {
     "data": {
      "text/plain": [
       "count     8.000000\n",
       "mean     59.125000\n",
       "std      18.325918\n",
       "min      37.000000\n",
       "25%      44.000000\n",
       "50%      58.500000\n",
       "75%      68.750000\n",
       "max      90.000000\n",
       "Name: Age, dtype: float64"
      ]
     },
     "execution_count": 10,
     "metadata": {},
     "output_type": "execute_result"
    }
   ],
   "source": [
    "cientistas = pd.read_csv('../data/scientists.csv')\n",
    "idades = cientistas['Age']\n",
    "print(idades)\n",
    "idades.describe()\n"
   ]
  },
  {
   "cell_type": "markdown",
   "metadata": {},
   "source": [
    "Podemos gerar um vetor de booleanos (na verdade é um objeto do tipo pandas.core.series.Series, mas podemos pensar como se fosse um vetor de booleanos) mostrando quais idades tem mais do que 50 anos:"
   ]
  },
  {
   "cell_type": "code",
   "execution_count": 11,
   "metadata": {},
   "outputs": [
    {
     "name": "stdout",
     "output_type": "stream",
     "text": [
      "0    False\n",
      "1     True\n",
      "2     True\n",
      "3     True\n",
      "4     True\n",
      "5    False\n",
      "6    False\n",
      "7     True\n",
      "Name: Age, dtype: bool\n",
      "<class 'pandas.core.series.Series'>\n"
     ]
    }
   ],
   "source": [
    "mais_50_anos = idades > 50\n",
    "print(mais_50_anos)\n",
    "print(type(mais_50_anos))"
   ]
  },
  {
   "cell_type": "markdown",
   "metadata": {},
   "source": [
    "E aí podemos usar esse série de booleanos para acessar os dados da série ou mesmo do dataframe:"
   ]
  },
  {
   "cell_type": "code",
   "execution_count": 12,
   "metadata": {},
   "outputs": [
    {
     "name": "stdout",
     "output_type": "stream",
     "text": [
      "1    61\n",
      "2    90\n",
      "3    66\n",
      "4    56\n",
      "7    77\n",
      "Name: Age, dtype: int64\n",
      "                   Name        Born        Died  Age     Occupation\n",
      "1        William Gosset  1876-06-13  1937-10-16   61   Statistician\n",
      "2  Florence Nightingale  1820-05-12  1910-08-13   90          Nurse\n",
      "3           Marie Curie  1867-11-07  1934-07-04   66        Chemist\n",
      "4         Rachel Carson  1907-05-27  1964-04-14   56      Biologist\n",
      "7          Johann Gauss  1777-04-30  1855-02-23   77  Mathematician\n"
     ]
    }
   ],
   "source": [
    "print(idades[mais_50_anos])\n",
    "print(cientistas[mais_50_anos])"
   ]
  },
  {
   "cell_type": "markdown",
   "metadata": {},
   "source": [
    "## Seção 4 - Dataframe\n",
    "\n",
    "Dataframes podem ser acessados também usando a seleção por booleanos:"
   ]
  },
  {
   "cell_type": "code",
   "execution_count": 13,
   "metadata": {},
   "outputs": [
    {
     "name": "stdout",
     "output_type": "stream",
     "text": [
      "                   Name        Born        Died  Age     Occupation\n",
      "1        William Gosset  1876-06-13  1937-10-16   61   Statistician\n",
      "2  Florence Nightingale  1820-05-12  1910-08-13   90          Nurse\n",
      "3           Marie Curie  1867-11-07  1934-07-04   66        Chemist\n",
      "7          Johann Gauss  1777-04-30  1855-02-23   77  Mathematician\n"
     ]
    }
   ],
   "source": [
    "mais_velhos_que_a_media = cientistas[ cientistas['Age'] > cientistas['Age'].mean() ]\n",
    "print(mais_velhos_que_a_media)"
   ]
  },
  {
   "cell_type": "markdown",
   "metadata": {},
   "source": [
    "A seleção de linhas pode ser feita usando fatiamento no índice:"
   ]
  },
  {
   "cell_type": "code",
   "execution_count": 14,
   "metadata": {},
   "outputs": [
    {
     "name": "stdout",
     "output_type": "stream",
     "text": [
      "                   Name        Born        Died  Age    Occupation\n",
      "0     Rosaline Franklin  1920-07-25  1958-04-16   37       Chemist\n",
      "1        William Gosset  1876-06-13  1937-10-16   61  Statistician\n",
      "2  Florence Nightingale  1820-05-12  1910-08-13   90         Nurse\n",
      "3           Marie Curie  1867-11-07  1934-07-04   66       Chemist\n",
      "-----\n",
      "            Name        Born        Died  Age          Occupation\n",
      "4  Rachel Carson  1907-05-27  1964-04-14   56           Biologist\n",
      "5      John Snow  1813-03-15  1858-06-16   45           Physician\n",
      "6    Alan Turing  1912-06-23  1954-06-07   41  Computer Scientist\n",
      "7   Johann Gauss  1777-04-30  1855-02-23   77       Mathematician\n"
     ]
    }
   ],
   "source": [
    "primeira_metade = cientistas[:4]\n",
    "segunda_metade = cientistas[4:]\n",
    "\n",
    "print(primeira_metade)\n",
    "print('-----')\n",
    "print(segunda_metade)"
   ]
  },
  {
   "cell_type": "markdown",
   "metadata": {},
   "source": [
    "Broadcasting também se aplica aqui:"
   ]
  },
  {
   "cell_type": "code",
   "execution_count": 15,
   "metadata": {},
   "outputs": [
    {
     "name": "stdout",
     "output_type": "stream",
     "text": [
      "                                       Name                  Born  \\\n",
      "0        Rosaline FranklinRosaline Franklin  1920-07-251920-07-25   \n",
      "1              William GossetWilliam Gosset  1876-06-131876-06-13   \n",
      "2  Florence NightingaleFlorence Nightingale  1820-05-121820-05-12   \n",
      "3                    Marie CurieMarie Curie  1867-11-071867-11-07   \n",
      "4                Rachel CarsonRachel Carson  1907-05-271907-05-27   \n",
      "5                        John SnowJohn Snow  1813-03-151813-03-15   \n",
      "6                    Alan TuringAlan Turing  1912-06-231912-06-23   \n",
      "7                  Johann GaussJohann Gauss  1777-04-301777-04-30   \n",
      "\n",
      "                   Died  Age                            Occupation  \n",
      "0  1958-04-161958-04-16   74                        ChemistChemist  \n",
      "1  1937-10-161937-10-16  122              StatisticianStatistician  \n",
      "2  1910-08-131910-08-13  180                            NurseNurse  \n",
      "3  1934-07-041934-07-04  132                        ChemistChemist  \n",
      "4  1964-04-141964-04-14  112                    BiologistBiologist  \n",
      "5  1858-06-161858-06-16   90                    PhysicianPhysician  \n",
      "6  1954-06-071954-06-07   82  Computer ScientistComputer Scientist  \n",
      "7  1855-02-231855-02-23  154            MathematicianMathematician  \n"
     ]
    }
   ],
   "source": [
    "print(cientistas*2)"
   ]
  },
  {
   "cell_type": "markdown",
   "metadata": {},
   "source": [
    "## Seção 5 - Fazendo alterações em Series e em DataFrames\n",
    "\n",
    "Podemos criar mais colunas atribuindo ao dataframe a nova coluna assim: df['novacoluna'] = dados\n",
    "\n",
    "Por exemplo, vamos converter as strings \"Born\" e \"Died\" para tipos de data e adicionar ao dataframe:"
   ]
  },
  {
   "cell_type": "code",
   "execution_count": 16,
   "metadata": {},
   "outputs": [
    {
     "name": "stdout",
     "output_type": "stream",
     "text": [
      "                   Name        Born        Died  Age    Occupation    born_dt  \\\n",
      "0     Rosaline Franklin  1920-07-25  1958-04-16   37       Chemist 1920-07-25   \n",
      "1        William Gosset  1876-06-13  1937-10-16   61  Statistician 1876-06-13   \n",
      "2  Florence Nightingale  1820-05-12  1910-08-13   90         Nurse 1820-05-12   \n",
      "3           Marie Curie  1867-11-07  1934-07-04   66       Chemist 1867-11-07   \n",
      "4         Rachel Carson  1907-05-27  1964-04-14   56     Biologist 1907-05-27   \n",
      "\n",
      "     died_dt  \n",
      "0 1958-04-16  \n",
      "1 1937-10-16  \n",
      "2 1910-08-13  \n",
      "3 1934-07-04  \n",
      "4 1964-04-14  \n",
      "-----\n",
      "Tipo de dados da coluna Born:  object\n",
      "Tipo de dados da coluna born_dt:  datetime64[ns]\n",
      "-----\n",
      "<class 'pandas.core.frame.DataFrame'>\n",
      "RangeIndex: 8 entries, 0 to 7\n",
      "Data columns (total 7 columns):\n",
      " #   Column      Non-Null Count  Dtype         \n",
      "---  ------      --------------  -----         \n",
      " 0   Name        8 non-null      object        \n",
      " 1   Born        8 non-null      object        \n",
      " 2   Died        8 non-null      object        \n",
      " 3   Age         8 non-null      int64         \n",
      " 4   Occupation  8 non-null      object        \n",
      " 5   born_dt     8 non-null      datetime64[ns]\n",
      " 6   died_dt     8 non-null      datetime64[ns]\n",
      "dtypes: datetime64[ns](2), int64(1), object(4)\n",
      "memory usage: 576.0+ bytes\n"
     ]
    }
   ],
   "source": [
    "born_datetime = pd.to_datetime(cientistas['Born'], format='%Y-%m-%d')\n",
    "died_datetime = pd.to_datetime(cientistas['Died'], format='%Y-%m-%d')\n",
    "\n",
    "cientistas['born_dt'], cientistas['died_dt'] = (born_datetime, died_datetime)\n",
    "\n",
    "print(cientistas.head())\n",
    "print('-----')\n",
    "print('Tipo de dados da coluna Born: ', cientistas['Born'].dtype)\n",
    "print('Tipo de dados da coluna born_dt: ', cientistas['born_dt'].dtype)\n",
    "print('-----')\n",
    "cientistas.info()"
   ]
  },
  {
   "cell_type": "markdown",
   "metadata": {},
   "source": [
    "Podemos remover colunas usando o método drop:"
   ]
  },
  {
   "cell_type": "code",
   "execution_count": 17,
   "metadata": {},
   "outputs": [
    {
     "name": "stdout",
     "output_type": "stream",
     "text": [
      "                   Name        Born        Died    Occupation    born_dt  \\\n",
      "0     Rosaline Franklin  1920-07-25  1958-04-16       Chemist 1920-07-25   \n",
      "1        William Gosset  1876-06-13  1937-10-16  Statistician 1876-06-13   \n",
      "2  Florence Nightingale  1820-05-12  1910-08-13         Nurse 1820-05-12   \n",
      "3           Marie Curie  1867-11-07  1934-07-04       Chemist 1867-11-07   \n",
      "4         Rachel Carson  1907-05-27  1964-04-14     Biologist 1907-05-27   \n",
      "\n",
      "     died_dt  \n",
      "0 1958-04-16  \n",
      "1 1937-10-16  \n",
      "2 1910-08-13  \n",
      "3 1934-07-04  \n",
      "4 1964-04-14  \n"
     ]
    }
   ],
   "source": [
    "# De acordo com a documentação:\n",
    "# axis: Whether to drop labels from the index (0 or ‘index’) or columns (1 or ‘columns’).\n",
    "cientistas = cientistas.drop(['Age'], axis=1)\n",
    "print(cientistas.head())"
   ]
  },
  {
   "cell_type": "markdown",
   "metadata": {},
   "source": [
    "## Seção 6 - Exportando e importando dados\n",
    "\n",
    "Para exportar dados de um dadaframe ou de uma série, podemos usar o método _to_pickle()_, que faz a exportação em formato binário. A leitura desse tipo de dados deve ser feita com o método _pd.read_pickle()_.\n",
    "\n",
    "Caso a ideia seja salvar/ler um csv, os métodos _to_csv()_ e _pd.read_csv()_ podem ser utilizados.\n",
    "\n",
    "Uma questão importante é que o rótulo da linha (o índice) é salvo junto. Assim, ao ler um arquivo, esse rótulo irá virar uma nova coluna. Para salvar sem o rótulo da linha podemos passar o parâmetro index=False para os métodos de exportação.\n",
    "\n",
    "Para exportar dados para o Excel podemos usar as bibliotecas xlwt ou openpyxl e, aí sim, chamar os métodos _to_excel()_ no dataframe/série.\n",
    "\n",
    "Para exportar dados binários que podem ser lidos no R podemos usar a biblioteca feather e o método _to_feather()_."
   ]
  }
 ],
 "metadata": {
  "kernelspec": {
   "display_name": "Python 3",
   "language": "python",
   "name": "python3"
  },
  "language_info": {
   "codemirror_mode": {
    "name": "ipython",
    "version": 3
   },
   "file_extension": ".py",
   "mimetype": "text/x-python",
   "name": "python",
   "nbconvert_exporter": "python",
   "pygments_lexer": "ipython3",
   "version": "3.8.5"
  }
 },
 "nbformat": 4,
 "nbformat_minor": 4
}
