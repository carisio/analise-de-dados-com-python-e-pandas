{
 "cells": [
  {
   "cell_type": "markdown",
   "metadata": {},
   "source": [
    "# Capítulo 2 - Estruturas de dados do pandas"
   ]
  },
  {
   "cell_type": "markdown",
   "metadata": {},
   "source": [
    "## Seção 2 - Criando seus próprios dados\n",
    "\n",
    "Para criar uma série no pandas podemos passar uma lista. Toda a série será classificada como de um tipo. Caso passemos uma lista com tipos misturados, o dtype será um object."
   ]
  },
  {
   "cell_type": "code",
   "execution_count": 1,
   "metadata": {},
   "outputs": [
    {
     "name": "stdout",
     "output_type": "stream",
     "text": [
      "0    banana\n",
      "1        42\n",
      "dtype: object\n"
     ]
    }
   ],
   "source": [
    "import pandas as pd\n",
    "\n",
    "s = pd.Series(['banana', 42])\n",
    "print(s)"
   ]
  },
  {
   "cell_type": "markdown",
   "metadata": {},
   "source": [
    "Na exibição da lista o número da linha é exibido à esquerda. Isso na verdade é o índice da série. Podemos dar nomes para os índices."
   ]
  },
  {
   "cell_type": "code",
   "execution_count": 2,
   "metadata": {},
   "outputs": [
    {
     "name": "stdout",
     "output_type": "stream",
     "text": [
      "Fruta                               banana\n",
      "Resposta para todas as perguntas        42\n",
      "dtype: object\n"
     ]
    }
   ],
   "source": [
    "s = pd.Series(['banana', 42], ['Fruta', 'Resposta para todas as perguntas'])\n",
    "print(s)"
   ]
  },
  {
   "cell_type": "markdown",
   "metadata": {},
   "source": [
    "Podemos passar outros tipos de containers para a criação de uma Series. No caso de um dict, as chaves comporão o index e os valores a série."
   ]
  },
  {
   "cell_type": "code",
   "execution_count": 3,
   "metadata": {},
   "outputs": [
    {
     "name": "stdout",
     "output_type": "stream",
     "text": [
      "Fruta       banana\n",
      "Resposta        42\n",
      "dtype: object\n"
     ]
    }
   ],
   "source": [
    "dict_banana_42 = {'Fruta': 'banana', 'Resposta': 42}\n",
    "print(pd.Series(dict_banana_42))"
   ]
  },
  {
   "cell_type": "markdown",
   "metadata": {},
   "source": [
    "Se passarmos também um index, tudo será reindexado de acordo com a nova ordem dos índices. Por exemplo, na linha abaixo mudamos a 'Fruta' para a segunda posição e criamos uma nova entrada com 'nova_chave'. A entrada referente a 'Fruta' permanece como banana. A 'nova_chave' fica com NaN pois não existia originalmente."
   ]
  },
  {
   "cell_type": "code",
   "execution_count": 4,
   "metadata": {},
   "outputs": [
    {
     "name": "stdout",
     "output_type": "stream",
     "text": [
      "nova_chave       NaN\n",
      "Fruta         banana\n",
      "dtype: object\n"
     ]
    }
   ],
   "source": [
    "print(pd.Series(dict_banana_42, index=['nova_chave', 'Fruta']))"
   ]
  },
  {
   "cell_type": "markdown",
   "metadata": {},
   "source": [
    "Podemos criar um dataframe a partir de um dicionário de listas"
   ]
  },
  {
   "cell_type": "code",
   "execution_count": 5,
   "metadata": {},
   "outputs": [
    {
     "name": "stdout",
     "output_type": "stream",
     "text": [
      "                Nome Ocupação  Idade\n",
      "0           Einstein   Físico     37\n",
      "1  Rosaline Franklin  Química     61\n"
     ]
    }
   ],
   "source": [
    "cientistas = pd.DataFrame({\n",
    "    'Nome': ['Einstein', 'Rosaline Franklin'],\n",
    "    'Ocupação': ['Físico', 'Química'],\n",
    "    'Idade': [37, 61]\n",
    "})\n",
    "print(cientistas)"
   ]
  },
  {
   "cell_type": "markdown",
   "metadata": {},
   "source": [
    "Podemos definir a ordem a partir do parâmetro columns. Se for o caso, podemos também nomear as linhas (index)"
   ]
  },
  {
   "cell_type": "code",
   "execution_count": 6,
   "metadata": {},
   "outputs": [
    {
     "name": "stdout",
     "output_type": "stream",
     "text": [
      "                   Idade Ocupação\n",
      "Einstein              37   Físico\n",
      "Rosaline Franklin     61  Química\n"
     ]
    }
   ],
   "source": [
    "cientistas = pd.DataFrame({\n",
    "    'Ocupação': ['Físico', 'Química'],\n",
    "    'Idade': [37, 61]},\n",
    "    index=['Einstein', 'Rosaline Franklin'],\n",
    "    columns=['Idade', 'Ocupação'])\n",
    "print(cientistas)"
   ]
  },
  {
   "cell_type": "markdown",
   "metadata": {},
   "source": [
    "## Seção 3 - Series\n",
    "\n",
    "O acesso a uma linha do dataframe retorna um objeto do tipo Series:"
   ]
  },
  {
   "cell_type": "code",
   "execution_count": 7,
   "metadata": {},
   "outputs": [
    {
     "name": "stdout",
     "output_type": "stream",
     "text": [
      "<class 'pandas.core.series.Series'>\n",
      "Idade           37\n",
      "Ocupação    Físico\n",
      "Name: Einstein, dtype: object\n"
     ]
    }
   ],
   "source": [
    "primeira_linha = cientistas.loc['Einstein']\n",
    "print(type(primeira_linha))\n",
    "print(primeira_linha)"
   ]
  },
  {
   "cell_type": "markdown",
   "metadata": {},
   "source": [
    "A série tem um atributo index que retorna o nome dos índices e um atributo values que retorna os valores. Existe também o método keys() que nada mais é que um alias para o index."
   ]
  },
  {
   "cell_type": "code",
   "execution_count": 11,
   "metadata": {},
   "outputs": [
    {
     "name": "stdout",
     "output_type": "stream",
     "text": [
      "Index(['Idade', 'Ocupação'], dtype='object')\n",
      "Index(['Idade', 'Ocupação'], dtype='object')\n",
      "[37 'Físico']\n"
     ]
    }
   ],
   "source": [
    "print(primeira_linha.index)\n",
    "print(primeira_linha.keys())\n",
    "\n",
    "print(primeira_linha.values)"
   ]
  },
  {
   "cell_type": "markdown",
   "metadata": {},
   "source": [
    "Uma série é muito semelhante a um ndarray. Muitos métodos de ndarray se aplicam também a uma série. Quando uma série é numérica, podemos aplicar diretamente alguns métodos (min, max, median, std etc):"
   ]
  },
  {
   "cell_type": "code",
   "execution_count": 18,
   "metadata": {},
   "outputs": [
    {
     "name": "stdout",
     "output_type": "stream",
     "text": [
      "37\n",
      "49.0\n",
      "61\n"
     ]
    }
   ],
   "source": [
    "idades = cientistas['Idade']\n",
    "print(idades.min())\n",
    "print(idades.mean())\n",
    "print(idades.max())"
   ]
  },
  {
   "cell_type": "markdown",
   "metadata": {},
   "source": [
    "A seleção de dados feita com loc/iloc presume que sabemos exatamente o que queremos acessar (o índice, por exemplo). Obviamente para encontrar o índice fazemos algum pré-processamento em busca de alguma informação. Por exemplo, se quisermos encontrar todos os cientistas que tem mais de 50 anos o jeito tradicional é fazer um loop no vetor de idade encontrando os índices referentes a idades maiores do que 50 e, aí sim, usar os índices para acessar os objetos.\n",
    "\n",
    "Com pandas podemos acessar os objetos de uma série ou dataframe através de booleanos que representam se queremos que o objeto seja incluído ou não no retorno. E esses booleanos podem ser calculados através de operações sobre as séries de um dataframe. Para exemplificar, vamos aplicar essa ideia no exemplo de separar os cientistas com mais de 50 anos.\n",
    "\n",
    "Primeiro vamos ler um arquivo com mais dados do que o nosso exemplo inicial com apenas dois registros e mostrar as idades de todos eles:"
   ]
  },
  {
   "cell_type": "code",
   "execution_count": 23,
   "metadata": {},
   "outputs": [
    {
     "name": "stdout",
     "output_type": "stream",
     "text": [
      "0    37\n",
      "1    61\n",
      "2    90\n",
      "3    66\n",
      "4    56\n",
      "5    45\n",
      "6    41\n",
      "7    77\n",
      "Name: Age, dtype: int64\n"
     ]
    },
    {
     "data": {
      "text/plain": [
       "count     8.000000\n",
       "mean     59.125000\n",
       "std      18.325918\n",
       "min      37.000000\n",
       "25%      44.000000\n",
       "50%      58.500000\n",
       "75%      68.750000\n",
       "max      90.000000\n",
       "Name: Age, dtype: float64"
      ]
     },
     "execution_count": 23,
     "metadata": {},
     "output_type": "execute_result"
    }
   ],
   "source": [
    "cientistas = pd.read_csv('../data/scientists.csv')\n",
    "idades = cientistas['Age']\n",
    "print(idades)\n",
    "idades.describe()\n"
   ]
  },
  {
   "cell_type": "markdown",
   "metadata": {},
   "source": [
    "Podemos gerar um vetor de booleanos (na verdade é um objeto do tipo pandas.core.series.Series, mas podemos pensar como se fosse um vetor de booleanos) mostrando quais idades tem mais do que 50 anos:"
   ]
  },
  {
   "cell_type": "code",
   "execution_count": 28,
   "metadata": {},
   "outputs": [
    {
     "name": "stdout",
     "output_type": "stream",
     "text": [
      "0    False\n",
      "1     True\n",
      "2     True\n",
      "3     True\n",
      "4     True\n",
      "5    False\n",
      "6    False\n",
      "7     True\n",
      "Name: Age, dtype: bool\n",
      "<class 'pandas.core.series.Series'>\n"
     ]
    }
   ],
   "source": [
    "mais_50_anos = idades > 50\n",
    "print(mais_50_anos)\n",
    "print(type(mais_50_anos))"
   ]
  },
  {
   "cell_type": "markdown",
   "metadata": {},
   "source": [
    "E aí podemos usar esse série de booleanos para acessar os dados da série ou mesmo do dataframe:"
   ]
  },
  {
   "cell_type": "code",
   "execution_count": 31,
   "metadata": {},
   "outputs": [
    {
     "name": "stdout",
     "output_type": "stream",
     "text": [
      "1    61\n",
      "2    90\n",
      "3    66\n",
      "4    56\n",
      "7    77\n",
      "Name: Age, dtype: int64\n",
      "                   Name        Born        Died  Age     Occupation\n",
      "1        William Gosset  1876-06-13  1937-10-16   61   Statistician\n",
      "2  Florence Nightingale  1820-05-12  1910-08-13   90          Nurse\n",
      "3           Marie Curie  1867-11-07  1934-07-04   66        Chemist\n",
      "4         Rachel Carson  1907-05-27  1964-04-14   56      Biologist\n",
      "7          Johann Gauss  1777-04-30  1855-02-23   77  Mathematician\n"
     ]
    }
   ],
   "source": [
    "print(idades[mais_50_anos])\n",
    "print(cientistas[mais_50_anos])"
   ]
  },
  {
   "cell_type": "markdown",
   "metadata": {},
   "source": [
    "## Seção 4 - Dataframe\n",
    "\n",
    "Dataframes podem ser acessados também usando a seleção por booleanos:"
   ]
  },
  {
   "cell_type": "code",
   "execution_count": 38,
   "metadata": {},
   "outputs": [
    {
     "name": "stdout",
     "output_type": "stream",
     "text": [
      "                   Name        Born        Died  Age     Occupation\n",
      "1        William Gosset  1876-06-13  1937-10-16   61   Statistician\n",
      "2  Florence Nightingale  1820-05-12  1910-08-13   90          Nurse\n",
      "3           Marie Curie  1867-11-07  1934-07-04   66        Chemist\n",
      "7          Johann Gauss  1777-04-30  1855-02-23   77  Mathematician\n"
     ]
    }
   ],
   "source": [
    "mais_velhos_que_a_media = cientistas[ cientistas['Age'] > cientistas['Age'].mean() ]\n",
    "print(mais_velhos_que_a_media)"
   ]
  },
  {
   "cell_type": "markdown",
   "metadata": {},
   "source": [
    "A seleção de linhas pode ser feita usando fatiamento no índice:"
   ]
  },
  {
   "cell_type": "code",
   "execution_count": 40,
   "metadata": {},
   "outputs": [
    {
     "name": "stdout",
     "output_type": "stream",
     "text": [
      "                   Name        Born        Died  Age    Occupation\n",
      "0     Rosaline Franklin  1920-07-25  1958-04-16   37       Chemist\n",
      "1        William Gosset  1876-06-13  1937-10-16   61  Statistician\n",
      "2  Florence Nightingale  1820-05-12  1910-08-13   90         Nurse\n",
      "3           Marie Curie  1867-11-07  1934-07-04   66       Chemist\n",
      "            Name        Born        Died  Age          Occupation\n",
      "4  Rachel Carson  1907-05-27  1964-04-14   56           Biologist\n",
      "5      John Snow  1813-03-15  1858-06-16   45           Physician\n",
      "6    Alan Turing  1912-06-23  1954-06-07   41  Computer Scientist\n",
      "7   Johann Gauss  1777-04-30  1855-02-23   77       Mathematician\n"
     ]
    }
   ],
   "source": [
    "primeira_metade = cientistas[:4]\n",
    "segunda_metade = cientistas[4:]\n",
    "\n",
    "print(primeira_metade)\n",
    "print('-----')\n",
    "print(segunda_metade)"
   ]
  }
 ],
 "metadata": {
  "kernelspec": {
   "display_name": "Python 3",
   "language": "python",
   "name": "python3"
  },
  "language_info": {
   "codemirror_mode": {
    "name": "ipython",
    "version": 3
   },
   "file_extension": ".py",
   "mimetype": "text/x-python",
   "name": "python",
   "nbconvert_exporter": "python",
   "pygments_lexer": "ipython3",
   "version": "3.8.5"
  }
 },
 "nbformat": 4,
 "nbformat_minor": 4
}
