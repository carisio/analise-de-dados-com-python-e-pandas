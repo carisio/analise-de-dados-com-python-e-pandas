{
 "cells": [
  {
   "cell_type": "markdown",
   "metadata": {},
   "source": [
    "# Capítulo 10 - Operações groupby: separar - aplicar - combinar\n",
    "\n",
    "## Seção 10.2 - Agregação\n",
    "\n",
    "A ideia da operação groupby é separar os dados originais em grupos e aplicar alguma função de sumarização em cada grupo, retornando um único valor para representar o grupo.\n",
    "\n",
    "Essa é a ideia de agregação, ou seja, juntar vários valores e extrair um único valor deles (por exemplo, média, desvio padão, quantil etc). Outro nome para isso é sumarização.\n",
    "\n",
    "Como exemplo, vamos calcular a média da expectativa de vida entre os diversos países da base de dados do gapminder agregados por ano:"
   ]
  },
  {
   "cell_type": "code",
   "execution_count": 1,
   "metadata": {},
   "outputs": [
    {
     "name": "stdout",
     "output_type": "stream",
     "text": [
      "year\n",
      "1952    49.057620\n",
      "1957    51.507401\n",
      "1962    53.609249\n",
      "1967    55.678290\n",
      "1972    57.647386\n",
      "1977    59.570157\n",
      "1982    61.533197\n",
      "1987    63.212613\n",
      "1992    64.160338\n",
      "1997    65.014676\n",
      "2002    65.694923\n",
      "2007    67.007423\n",
      "Name: lifeExp, dtype: float64\n"
     ]
    }
   ],
   "source": [
    "import pandas as pd\n",
    "\n",
    "df = pd.read_csv('../data/gapminder.tsv', sep='\\t')\n",
    "\n",
    "# Usando notação de ponto:\n",
    "avg_life_exp_by_year = df.groupby('year').lifeExp.mean()\n",
    "# Ou usando notação de colchetes:\n",
    "avg_life_exp_by_year = df.groupby('year')['lifeExp'].mean()\n",
    "print(avg_life_exp_by_year)"
   ]
  },
  {
   "cell_type": "markdown",
   "metadata": {},
   "source": [
    "Há diversas funções de sumarização de dados sendo que uma muito interessant é a função describe(), que retorna no agrupamento o count, média, desvio padrão, min, max e percentis de 25%, 50% e 75%:"
   ]
  },
  {
   "cell_type": "code",
   "execution_count": 2,
   "metadata": {},
   "outputs": [
    {
     "name": "stdout",
     "output_type": "stream",
     "text": [
      "           count       mean        std     min       25%      50%       75%  \\\n",
      "continent                                                                     \n",
      "Africa     624.0  48.865330   9.150210  23.599  42.37250  47.7920  54.41150   \n",
      "Americas   300.0  64.658737   9.345088  37.579  58.41000  67.0480  71.69950   \n",
      "Asia       396.0  60.064903  11.864532  28.801  51.42625  61.7915  69.50525   \n",
      "Europe     360.0  71.903686   5.433178  43.585  69.57000  72.2410  75.45050   \n",
      "Oceania     24.0  74.326208   3.795611  69.120  71.20500  73.6650  77.55250   \n",
      "\n",
      "              max  \n",
      "continent          \n",
      "Africa     76.442  \n",
      "Americas   80.653  \n",
      "Asia       82.603  \n",
      "Europe     81.757  \n",
      "Oceania    81.235  \n"
     ]
    }
   ],
   "source": [
    "continent_describe = df.groupby('continent').lifeExp.describe()\n",
    "print(continent_describe)"
   ]
  },
  {
   "cell_type": "markdown",
   "metadata": {},
   "source": [
    "Além disso, podemos aplicar nossas próprias funções ao agrupamento:"
   ]
  },
  {
   "cell_type": "code",
   "execution_count": 3,
   "metadata": {},
   "outputs": [
    {
     "name": "stdout",
     "output_type": "stream",
     "text": [
      "year\n",
      "1952    49.057620\n",
      "1957    51.507401\n",
      "1962    53.609249\n",
      "1967    55.678290\n",
      "1972    57.647386\n",
      "1977    59.570157\n",
      "1982    61.533197\n",
      "1987    63.212613\n",
      "1992    64.160338\n",
      "1997    65.014676\n",
      "2002    65.694923\n",
      "2007    67.007423\n",
      "Name: lifeExp, dtype: float64\n"
     ]
    }
   ],
   "source": [
    "def media_personalizada(valores):\n",
    "    return valores.sum()/len(valores)\n",
    "\n",
    "avg_life_exp_by_year_media_personalizada = df.groupby('year').lifeExp.agg(media_personalizada)\n",
    "print(avg_life_exp_by_year_media_personalizada)"
   ]
  },
  {
   "cell_type": "markdown",
   "metadata": {},
   "source": [
    "Nossas funções podem ter parâmetros. Basta manter a série como o primeiro parâmetro:"
   ]
  },
  {
   "cell_type": "code",
   "execution_count": 4,
   "metadata": {},
   "outputs": [
    {
     "name": "stdout",
     "output_type": "stream",
     "text": [
      "year\n",
      "1952    -0.942380\n",
      "1957     1.507401\n",
      "1962     3.609249\n",
      "1967     5.678290\n",
      "1972     7.647386\n",
      "1977     9.570157\n",
      "1982    11.533197\n",
      "1987    13.212613\n",
      "1992    14.160338\n",
      "1997    15.014676\n",
      "2002    15.694923\n",
      "2007    17.007423\n",
      "Name: lifeExp, dtype: float64\n"
     ]
    }
   ],
   "source": [
    "def media_personalizada_com_vies(valores, vies):\n",
    "    return valores.sum()/len(valores) + vies\n",
    "\n",
    "avg_life_exp_by_year_media_personalizada_com_vies = df.groupby('year').lifeExp.agg(media_personalizada_com_vies, vies=-50)\n",
    "print(avg_life_exp_by_year_media_personalizada_com_vies)"
   ]
  },
  {
   "cell_type": "markdown",
   "metadata": {},
   "source": [
    "É possível usar várias funções diferentes na mesma série:"
   ]
  },
  {
   "cell_type": "code",
   "execution_count": 5,
   "metadata": {},
   "outputs": [
    {
     "name": "stdout",
     "output_type": "stream",
     "text": [
      "           mean        std\n",
      "year                      \n",
      "1952  49.057620  12.225956\n",
      "1957  51.507401  12.231286\n",
      "1962  53.609249  12.097245\n",
      "1967  55.678290  11.718858\n",
      "1972  57.647386  11.381953\n",
      "1977  59.570157  11.227229\n",
      "1982  61.533197  10.770618\n",
      "1987  63.212613  10.556285\n",
      "1992  64.160338  11.227380\n",
      "1997  65.014676  11.559439\n",
      "2002  65.694923  12.279823\n",
      "2007  67.007423  12.073021\n"
     ]
    }
   ],
   "source": [
    "import numpy as np\n",
    "\n",
    "print(df.groupby('year').lifeExp.agg([np.mean, np.std]))"
   ]
  },
  {
   "cell_type": "markdown",
   "metadata": {},
   "source": [
    "Podemos ainda usar dict para passar funções diferentes para sumarização de colunas diferentes. Observe que o dict aqui atua no dataframe:"
   ]
  },
  {
   "cell_type": "code",
   "execution_count": 6,
   "metadata": {},
   "outputs": [
    {
     "name": "stdout",
     "output_type": "stream",
     "text": [
      "        lifeExp         pop                  gdpPercap\n",
      "           mean      median          mean       median\n",
      "year                                                  \n",
      "1952  49.057620   3943953.0  1.695040e+07  1968.528344\n",
      "1957  51.507401   4282942.0  1.876341e+07  2173.220291\n",
      "1962  53.609249   4686039.5  2.042101e+07  2335.439533\n",
      "1967  55.678290   5170175.5  2.265830e+07  2678.334741\n",
      "1972  57.647386   5877996.5  2.518998e+07  3339.129407\n",
      "1977  59.570157   6404036.5  2.767638e+07  3798.609244\n",
      "1982  61.533197   7007320.0  3.020730e+07  4216.228428\n",
      "1987  63.212613   7774861.5  3.303857e+07  4280.300366\n",
      "1992  64.160338   8688686.5  3.599092e+07  4386.085502\n",
      "1997  65.014676   9735063.5  3.883947e+07  4781.825478\n",
      "2002  65.694923  10372918.5  4.145759e+07  5319.804524\n",
      "2007  67.007423  10517531.0  4.402122e+07  6124.371109\n"
     ]
    }
   ],
   "source": [
    "print(\n",
    "    df.groupby('year').agg(\n",
    "    {\n",
    "        'lifeExp': 'mean',\n",
    "        'pop': ['median', 'mean'],\n",
    "        'gdpPercap': 'median'\n",
    "    })\n",
    ")"
   ]
  },
  {
   "cell_type": "markdown",
   "metadata": {},
   "source": [
    "## Seção 10.3 - Transformação\n",
    "\n",
    "Na agregação nós estamos retornando um valor para um grupo (n -> 1). No caso de uma transformação nós vamos pegar um valor e transformar em outro (n -> n).\n",
    "\n",
    "Para isso usamos a função transform da série:"
   ]
  },
  {
   "cell_type": "code",
   "execution_count": 7,
   "metadata": {},
   "outputs": [
    {
     "name": "stdout",
     "output_type": "stream",
     "text": [
      "0      -1.656854\n",
      "1      -1.731249\n",
      "2      -1.786543\n",
      "3      -1.848157\n",
      "4      -1.894173\n",
      "          ...   \n",
      "1699   -0.081621\n",
      "1700   -0.336974\n",
      "1701   -1.574962\n",
      "1702   -2.093346\n",
      "1703   -1.948180\n",
      "Name: lifeExp, Length: 1704, dtype: float64\n"
     ]
    }
   ],
   "source": [
    "def transforma_zscore(x):\n",
    "    return (x - x.mean())/x.std()\n",
    "\n",
    "print(\n",
    "    df.groupby('year').lifeExp.transform(transforma_zscore)\n",
    ")"
   ]
  },
  {
   "cell_type": "markdown",
   "metadata": {},
   "source": [
    "No caso do transform seguido de groupby a função é aplicada em cada agrupamento. Se tivéssemos aplicado a função diretamente no dataframe o resultado seria outro, pois ele não teria separado em grupos. No exemplo abaixo, veja que os resultados são diferentes quando calculamos o z-score em todo o grupo de uma vez:"
   ]
  },
  {
   "cell_type": "code",
   "execution_count": 8,
   "metadata": {},
   "outputs": [
    {
     "name": "stdout",
     "output_type": "stream",
     "text": [
      "0      -2.374637\n",
      "1      -2.256112\n",
      "2      -2.127213\n",
      "3      -1.970599\n",
      "4      -1.810501\n",
      "          ...   \n",
      "1699    0.222694\n",
      "1700    0.069873\n",
      "1701   -0.980517\n",
      "1702   -1.508499\n",
      "1703   -1.237695\n",
      "Name: lifeExp, Length: 1704, dtype: float64\n",
      "O menor valor aplicando sobre toda a base é:\n",
      "-2.7773585999499315\n",
      "O menor valor quando o z-score é calculado em agrupamentos distintos é diferente:\n",
      "-3.6127163896209087\n"
     ]
    }
   ],
   "source": [
    "print(transforma_zscore(df.lifeExp))\n",
    "\n",
    "print('O menor valor aplicando sobre toda a base é:')\n",
    "print(transforma_zscore(df.lifeExp).min())\n",
    "print('O menor valor quando o z-score é calculado em agrupamentos distintos é diferente:')\n",
    "print(df.groupby('year').lifeExp.transform(transforma_zscore).min())"
   ]
  },
  {
   "cell_type": "markdown",
   "metadata": {},
   "source": [
    "O método transform também é útil para preencher valores na com informação do grupo. Por exemplo, vamos usar o dataframe tips da biblioteca seaborn e preencher os NaN da coluna total_bill com a média dos dados agrupados por gênero:"
   ]
  },
  {
   "cell_type": "code",
   "execution_count": 9,
   "metadata": {},
   "outputs": [
    {
     "name": "stdout",
     "output_type": "stream",
     "text": [
      "     total_bill   tip     sex smoker   day    time  size\n",
      "113         NaN  2.55    Male     No   Sun  Dinner     2\n",
      "207         NaN  3.00    Male    Yes   Sat  Dinner     4\n",
      "183         NaN  6.50    Male    Yes   Sun  Dinner     4\n",
      "63          NaN  3.76    Male    Yes   Sat  Dinner     4\n",
      "162       16.21  2.00  Female     No   Sun  Dinner     3\n",
      "110       14.00  3.00    Male     No   Sat  Dinner     2\n",
      "155       29.85  5.14  Female     No   Sun  Dinner     5\n",
      "146       18.64  1.36  Female     No  Thur   Lunch     3\n",
      "239       29.03  5.92    Male     No   Sat  Dinner     3\n",
      "129       22.82  2.18    Male     No  Thur   Lunch     3\n",
      "------------------------------------\n",
      "     total_bill   tip     sex smoker   day    time  size  fill_total_bill\n",
      "113         NaN  2.55    Male     No   Sun  Dinner     2            21.95\n",
      "207         NaN  3.00    Male    Yes   Sat  Dinner     4            21.95\n",
      "183         NaN  6.50    Male    Yes   Sun  Dinner     4            21.95\n",
      "63          NaN  3.76    Male    Yes   Sat  Dinner     4            21.95\n",
      "162       16.21  2.00  Female     No   Sun  Dinner     3            16.21\n",
      "110       14.00  3.00    Male     No   Sat  Dinner     2            14.00\n",
      "155       29.85  5.14  Female     No   Sun  Dinner     5            29.85\n",
      "146       18.64  1.36  Female     No  Thur   Lunch     3            18.64\n",
      "239       29.03  5.92    Male     No   Sat  Dinner     3            29.03\n",
      "129       22.82  2.18    Male     No  Thur   Lunch     3            22.82\n",
      "------------------------------------\n",
      "Observe acima que a coluna fill_total_bill possui valores diferentes de acordo com o sex, devido à aplicação ao agrupamento\n"
     ]
    }
   ],
   "source": [
    "import seaborn as sns\n",
    "\n",
    "# Lê 10 observações do databaset tips:\n",
    "tips_10 = sns.load_dataset('tips').sample(10)\n",
    "\n",
    "# Escolhe aleatoriamente 4 valores de total_bill e os transforma em NaN:\n",
    "np.random.seed(30)\n",
    "tips_10.loc[np.random.permutation(tips_10.index)[:4], 'total_bill'] = np.NaN\n",
    "\n",
    "# Imprime\n",
    "print(tips_10)\n",
    "\n",
    "# Cria uma função que devolve a série com os valores de na preenchidos pela média da série:\n",
    "def fill_na_mean(x):\n",
    "    return x.fillna(x.mean())\n",
    "\n",
    "# Aplica o fill_na_mean por grupo\n",
    "total_bill_group_mean = tips_10.groupby('sex').total_bill.transform(fill_na_mean)\n",
    "tips_10['fill_total_bill'] = total_bill_group_mean\n",
    "print('------------------------------------')\n",
    "print(tips_10)\n",
    "print('------------------------------------')\n",
    "print('Observe acima que a coluna fill_total_bill possui valores diferentes de acordo com o sex, devido à aplicação ao agrupamento')"
   ]
  },
  {
   "cell_type": "markdown",
   "metadata": {},
   "source": [
    "## Seção 10.4 - Filtragem\n",
    "\n",
    "Podemos fazer filtragem de grupos. Por exemplo, vamos usar o dataset tips e agrupar as observações por tamanho de grupo de pessoas (coluna 'size'). E aí vamos considerar apenas os grupos que possuem mais de 30 observações na base de dados:"
   ]
  },
  {
   "cell_type": "code",
   "execution_count": 10,
   "metadata": {},
   "outputs": [
    {
     "name": "stdout",
     "output_type": "stream",
     "text": [
      "O conjunto original tem tamanho (244, 7)\n",
      "--------------------------------------------------------------------\n",
      "Essa é a quantidade de observações no conjunto de dados em função da qtd de pessoas na mesa:\n",
      "2    156\n",
      "3     38\n",
      "4     37\n",
      "5      5\n",
      "6      4\n",
      "1      4\n",
      "Name: size, dtype: int64\n",
      "--------------------------------------------------------------------\n",
      "Essa é a quantidade de observações no conjunto de dados filtrado (pelo menos 30 observações por grupo):\n",
      "2    156\n",
      "3     38\n",
      "4     37\n",
      "Name: size, dtype: int64\n"
     ]
    }
   ],
   "source": [
    "# Carrega o conjunto de dados tips\n",
    "tips = sns.load_dataset('tips')\n",
    "\n",
    "# Vamos ver quantos dados temos nesse conjunto:\n",
    "print('O conjunto original tem tamanho', tips.shape)\n",
    "\n",
    "# Vamos agrupar por qtd de pessoas na mesa:\n",
    "print('--------------------------------------------------------------------')\n",
    "print('Essa é a quantidade de observações no conjunto de dados em função da qtd de pessoas na mesa:')\n",
    "print(tips['size'].value_counts())\n",
    "\n",
    "# Agora vamos filtrar os grupos que possuem pelo menos 30 registros:\n",
    "print('--------------------------------------------------------------------')\n",
    "print('Essa é a quantidade de observações no conjunto de dados filtrado (pelo menos 30 observações por grupo):')\n",
    "tips_filtered = tips.groupby('size').filter(lambda x: x['size'].count() >= 30)\n",
    "print(tips_filtered['size'].value_counts())"
   ]
  },
  {
   "cell_type": "markdown",
   "metadata": {},
   "source": [
    "## Seção 10.5 - Objeto pandas.core.groupby.DataFrameGroupBy\n",
    "\n",
    "Ao realizar um agrupamento podemos visualizar os índices dos registros de cada grupo:"
   ]
  },
  {
   "cell_type": "code",
   "execution_count": 11,
   "metadata": {},
   "outputs": [
    {
     "name": "stdout",
     "output_type": "stream",
     "text": [
      "------------------------------\n",
      "Dataset completo:\n",
      "     total_bill   tip     sex smoker   day    time  size\n",
      "24        19.82  3.18    Male     No   Sat  Dinner     2\n",
      "6          8.77  2.00    Male     No   Sun  Dinner     2\n",
      "153       24.55  2.00    Male     No   Sun  Dinner     4\n",
      "211       25.89  5.16    Male    Yes   Sat  Dinner     4\n",
      "198       13.00  2.00  Female    Yes  Thur   Lunch     2\n",
      "176       17.89  2.00    Male    Yes   Sun  Dinner     2\n",
      "192       28.44  2.56    Male    Yes  Thur   Lunch     2\n",
      "124       12.48  2.52  Female     No  Thur   Lunch     2\n",
      "9         14.78  3.23    Male     No   Sun  Dinner     2\n",
      "101       15.38  3.00  Female    Yes   Fri  Dinner     2\n",
      "------------------------------\n",
      "Imprimindo dataset agrupado por sex:\n",
      "<pandas.core.groupby.generic.DataFrameGroupBy object at 0x000002D10DCB7E20>\n",
      "------------------------------\n",
      "Visualizando os índices de cada grupo:\n",
      "{'Male': [24, 6, 153, 211, 176, 192, 9], 'Female': [198, 124, 101]}\n"
     ]
    }
   ],
   "source": [
    "tips_10 = sns.load_dataset('tips').sample(10, random_state=42)\n",
    "print('------------------------------')\n",
    "print('Dataset completo:')\n",
    "print(tips_10)\n",
    "\n",
    "print('------------------------------')\n",
    "print('Imprimindo dataset agrupado por sex:')\n",
    "grouped = tips_10.groupby('sex')\n",
    "print(grouped)\n",
    "\n",
    "print('------------------------------')\n",
    "print('Visualizando os índices de cada grupo:')\n",
    "print(grouped.groups)"
   ]
  },
  {
   "cell_type": "markdown",
   "metadata": {},
   "source": [
    "Ao aplicar uma função em um dataset sem especificar as colunas, o Pandas tentará aplicar em todas as colunas e descartará as colunas onde não é possível:"
   ]
  },
  {
   "cell_type": "code",
   "execution_count": 12,
   "metadata": {},
   "outputs": [
    {
     "name": "stdout",
     "output_type": "stream",
     "text": [
      "Todas as colunas de tips_10:\n",
      "Index(['total_bill', 'tip', 'sex', 'smoker', 'day', 'time', 'size'], dtype='object')\n",
      "-------------------------\n",
      "Aplicando a média chamando função padronizada:\n",
      "        total_bill       tip      size\n",
      "sex                                   \n",
      "Male         20.02  2.875714  2.571429\n",
      "Female       13.62  2.506667  2.000000\n",
      "-------------------------\n",
      "Aplicando a média chamando função personalizada:\n",
      "        total_bill       tip      size\n",
      "sex                                   \n",
      "Male         20.02  2.875714  2.571429\n",
      "Female       13.62  2.506667  2.000000\n"
     ]
    }
   ],
   "source": [
    "print('Todas as colunas de tips_10:')\n",
    "print(tips_10.columns)\n",
    "\n",
    "print('-------------------------')\n",
    "print('Aplicando a média chamando função padronizada:')\n",
    "print(grouped.mean())\n",
    "\n",
    "print('-------------------------')\n",
    "print('Aplicando a média chamando função personalizada:')\n",
    "print(grouped.agg(media_personalizada))"
   ]
  },
  {
   "cell_type": "markdown",
   "metadata": {},
   "source": [
    "Para obter o acesso aos grupos temos que chamar get_group ou iterar o objeto agrupado. Não é possível acessar chamando um índice:"
   ]
  },
  {
   "cell_type": "code",
   "execution_count": 13,
   "metadata": {},
   "outputs": [
    {
     "name": "stdout",
     "output_type": "stream",
     "text": [
      "Apenas mulheres:\n",
      "     total_bill   tip     sex smoker   day    time  size\n",
      "198       13.00  2.00  Female    Yes  Thur   Lunch     2\n",
      "124       12.48  2.52  Female     No  Thur   Lunch     2\n",
      "101       15.38  3.00  Female    Yes   Fri  Dinner     2\n",
      "----------------------------------------------\n",
      "Iterando em todos os grupos:\n",
      "('Male',      total_bill   tip   sex smoker   day    time  size\n",
      "24        19.82  3.18  Male     No   Sat  Dinner     2\n",
      "6          8.77  2.00  Male     No   Sun  Dinner     2\n",
      "153       24.55  2.00  Male     No   Sun  Dinner     4\n",
      "211       25.89  5.16  Male    Yes   Sat  Dinner     4\n",
      "176       17.89  2.00  Male    Yes   Sun  Dinner     2\n",
      "192       28.44  2.56  Male    Yes  Thur   Lunch     2\n",
      "9         14.78  3.23  Male     No   Sun  Dinner     2)\n",
      "('Female',      total_bill   tip     sex smoker   day    time  size\n",
      "198       13.00  2.00  Female    Yes  Thur   Lunch     2\n",
      "124       12.48  2.52  Female     No  Thur   Lunch     2\n",
      "101       15.38  3.00  Female    Yes   Fri  Dinner     2)\n"
     ]
    }
   ],
   "source": [
    "mulheres = grouped.get_group('Female')\n",
    "print('Apenas mulheres:')\n",
    "print(mulheres)\n",
    "\n",
    "print('----------------------------------------------')\n",
    "print('Iterando em todos os grupos:')\n",
    "for sex_group in grouped:\n",
    "    print(sex_group)"
   ]
  },
  {
   "cell_type": "markdown",
   "metadata": {},
   "source": [
    "Quando o grupo é iterado, cada objeto é uma tupla, sendo o primeiro elemento o nome do grupo e, o segundo, o dataframe com os registros.\n",
    "\n",
    "Vamos iterar esse objeto agrupado e ver o conteúdo dos registros:"
   ]
  },
  {
   "cell_type": "code",
   "execution_count": 14,
   "metadata": {},
   "outputs": [
    {
     "name": "stdout",
     "output_type": "stream",
     "text": [
      "------------------------------------------------------------------------\n",
      "type(item_do_grupo): <class 'tuple'>\n",
      "\n",
      "len(item_do_grupo): 2\n",
      "\n",
      "item_do_grupo[0]: Male\n",
      "\n",
      "type(item_do_grupo[0]): <class 'str'>\n",
      "\n",
      "item_do_grupo[1]:      total_bill   tip   sex smoker   day    time  size\n",
      "24        19.82  3.18  Male     No   Sat  Dinner     2\n",
      "6          8.77  2.00  Male     No   Sun  Dinner     2\n",
      "153       24.55  2.00  Male     No   Sun  Dinner     4\n",
      "211       25.89  5.16  Male    Yes   Sat  Dinner     4\n",
      "176       17.89  2.00  Male    Yes   Sun  Dinner     2\n",
      "192       28.44  2.56  Male    Yes  Thur   Lunch     2\n",
      "9         14.78  3.23  Male     No   Sun  Dinner     2\n",
      "\n",
      "type(item_do_grupo[1]): <class 'pandas.core.frame.DataFrame'>\n",
      "\n",
      "item_do_grupo: ('Male',      total_bill   tip   sex smoker   day    time  size\n",
      "24        19.82  3.18  Male     No   Sat  Dinner     2\n",
      "6          8.77  2.00  Male     No   Sun  Dinner     2\n",
      "153       24.55  2.00  Male     No   Sun  Dinner     4\n",
      "211       25.89  5.16  Male    Yes   Sat  Dinner     4\n",
      "176       17.89  2.00  Male    Yes   Sun  Dinner     2\n",
      "192       28.44  2.56  Male    Yes  Thur   Lunch     2\n",
      "9         14.78  3.23  Male     No   Sun  Dinner     2)\n",
      "\n",
      "------------------------------------------------------------------------\n",
      "type(item_do_grupo): <class 'tuple'>\n",
      "\n",
      "len(item_do_grupo): 2\n",
      "\n",
      "item_do_grupo[0]: Female\n",
      "\n",
      "type(item_do_grupo[0]): <class 'str'>\n",
      "\n",
      "item_do_grupo[1]:      total_bill   tip     sex smoker   day    time  size\n",
      "198       13.00  2.00  Female    Yes  Thur   Lunch     2\n",
      "124       12.48  2.52  Female     No  Thur   Lunch     2\n",
      "101       15.38  3.00  Female    Yes   Fri  Dinner     2\n",
      "\n",
      "type(item_do_grupo[1]): <class 'pandas.core.frame.DataFrame'>\n",
      "\n",
      "item_do_grupo: ('Female',      total_bill   tip     sex smoker   day    time  size\n",
      "198       13.00  2.00  Female    Yes  Thur   Lunch     2\n",
      "124       12.48  2.52  Female     No  Thur   Lunch     2\n",
      "101       15.38  3.00  Female    Yes   Fri  Dinner     2)\n",
      "\n"
     ]
    }
   ],
   "source": [
    "for item_do_grupo in grouped:\n",
    "    print('------------------------------------------------------------------------')\n",
    "    print(f'type(item_do_grupo): {type(item_do_grupo)}\\n')\n",
    "    print(f'len(item_do_grupo): {len(item_do_grupo)}\\n')\n",
    "    print(f'item_do_grupo[0]: {item_do_grupo[0]}\\n')\n",
    "    print(f'type(item_do_grupo[0]): {type(item_do_grupo[0])}\\n')\n",
    "    print(f'item_do_grupo[1]: {item_do_grupo[1]}\\n')\n",
    "    print(f'type(item_do_grupo[1]): {type(item_do_grupo[1])}\\n')\n",
    "    print(f'item_do_grupo: {item_do_grupo}\\n')"
   ]
  },
  {
   "cell_type": "markdown",
   "metadata": {},
   "source": [
    "Podemos agrupar por mais de uma variável. Por exemplo, vamos agrupar por sex e time:"
   ]
  },
  {
   "cell_type": "code",
   "execution_count": 15,
   "metadata": {},
   "outputs": [
    {
     "name": "stdout",
     "output_type": "stream",
     "text": [
      "               total_bill       tip      size\n",
      "sex    time                                  \n",
      "Male   Lunch    28.440000  2.560000  2.000000\n",
      "       Dinner   18.616667  2.928333  2.666667\n",
      "Female Lunch    12.740000  2.260000  2.000000\n",
      "       Dinner   15.380000  3.000000  2.000000\n"
     ]
    }
   ],
   "source": [
    "bill_sex_time = tips_10.groupby(['sex', 'time'])\n",
    "\n",
    "group_avg = bill_sex_time.mean()\n",
    "print(group_avg)"
   ]
  },
  {
   "cell_type": "markdown",
   "metadata": {},
   "source": [
    "O print do dataframe mostra ele meio vazio devido a visualização hierárquica dos grupos (as linhas 2 e 4 de 'sex' estão vazias).\n",
    "\n",
    "Na verdade, se visualizarmos o columns do grupo vamos ver que são colunas apenas o total_bill, tip e size. As outras informações (sex e time) na verdade são os nomes dos índices."
   ]
  },
  {
   "cell_type": "code",
   "execution_count": 16,
   "metadata": {},
   "outputs": [
    {
     "name": "stdout",
     "output_type": "stream",
     "text": [
      "Tipo de dados de group_avg: <class 'pandas.core.frame.DataFrame'>\n",
      "As colunas disponíveis: Index(['total_bill', 'tip', 'size'], dtype='object')\n",
      "Os índices: MultiIndex([(  'Male',  'Lunch'),\n",
      "            (  'Male', 'Dinner'),\n",
      "            ('Female',  'Lunch'),\n",
      "            ('Female', 'Dinner')],\n",
      "           names=['sex', 'time'])\n"
     ]
    }
   ],
   "source": [
    "print('Tipo de dados de group_avg:', type(group_avg))\n",
    "\n",
    "print('As colunas disponíveis:', group_avg.columns)\n",
    "\n",
    "print('Os índices:', group_avg.index)"
   ]
  },
  {
   "cell_type": "markdown",
   "metadata": {},
   "source": [
    "Podemos \"planificar\" esse índice para colocar o dataset com todas as variáveis, mesmo as variáveis que foram para o índice:"
   ]
  },
  {
   "cell_type": "code",
   "execution_count": 17,
   "metadata": {},
   "outputs": [
    {
     "name": "stdout",
     "output_type": "stream",
     "text": [
      "      sex    time  total_bill       tip      size\n",
      "0    Male   Lunch   28.440000  2.560000  2.000000\n",
      "1    Male  Dinner   18.616667  2.928333  2.666667\n",
      "2  Female   Lunch   12.740000  2.260000  2.000000\n",
      "3  Female  Dinner   15.380000  3.000000  2.000000\n"
     ]
    }
   ],
   "source": [
    "group_method = group_avg.reset_index()\n",
    "\n",
    "print(group_method)"
   ]
  },
  {
   "cell_type": "markdown",
   "metadata": {},
   "source": [
    "Esse mesmo resultado seria atingido usando como parâmetro as_index=False para o método groupby."
   ]
  }
 ],
 "metadata": {
  "kernelspec": {
   "display_name": "Python 3",
   "language": "python",
   "name": "python3"
  },
  "language_info": {
   "codemirror_mode": {
    "name": "ipython",
    "version": 3
   },
   "file_extension": ".py",
   "mimetype": "text/x-python",
   "name": "python",
   "nbconvert_exporter": "python",
   "pygments_lexer": "ipython3",
   "version": "3.8.5"
  }
 },
 "nbformat": 4,
 "nbformat_minor": 4
}
