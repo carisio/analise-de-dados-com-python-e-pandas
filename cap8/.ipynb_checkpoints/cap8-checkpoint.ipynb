{
 "cells": [
  {
   "cell_type": "markdown",
   "metadata": {},
   "source": [
    "# Capítulo 8 - Strings e dados do tipo texto\n",
    "\n",
    "Esse capítulo fala de strings da biblioteca padrão do Python. Colocarei aqui apenas as partes que acho mais relevantes (ou mais fáceis de esquecer).\n",
    "\n",
    "## Seção 8.5 - Formatação de strings\n",
    "\n",
    "###  usando placeholders:"
   ]
  },
  {
   "cell_type": "code",
   "execution_count": 1,
   "metadata": {},
   "outputs": [
    {
     "name": "stdout",
     "output_type": "stream",
     "text": [
      "Aqui vai aparecer algo qualquer\n"
     ]
    }
   ],
   "source": [
    "v = 'algo qualquer'\n",
    "s = 'Aqui vai aparecer {}'\n",
    "\n",
    "print(s.format(v))"
   ]
  },
  {
   "cell_type": "code",
   "execution_count": 2,
   "metadata": {},
   "outputs": [
    {
     "name": "stdout",
     "output_type": "stream",
     "text": [
      "Aqui está a primeira variável: var0. Aqui, a segunda: var1. E agora vamos ver a primeira novamente: var0\n"
     ]
    }
   ],
   "source": [
    "v0 = 'var0'\n",
    "v1 = 'var1'\n",
    "s = 'Aqui está a primeira variável: {0}. Aqui, a segunda: {1}. E agora vamos ver a primeira novamente: {0}'\n",
    "\n",
    "print(s.format(v0, v1))"
   ]
  },
  {
   "cell_type": "code",
   "execution_count": 3,
   "metadata": {},
   "outputs": [
    {
     "name": "stdout",
     "output_type": "stream",
     "text": [
      "Aqui está a primeira variável: var0. Aqui, a segunda: var1. E agora vamos ver a primeira novamente: var0\n"
     ]
    }
   ],
   "source": [
    "s = f'Aqui está a primeira variável: {v0}. Aqui, a segunda: {v1}. E agora vamos ver a primeira novamente: {v0}'\n",
    "print(s)"
   ]
  },
  {
   "cell_type": "markdown",
   "metadata": {},
   "source": [
    "### de números:"
   ]
  },
  {
   "cell_type": "code",
   "execution_count": 4,
   "metadata": {},
   "outputs": [
    {
     "name": "stdout",
     "output_type": "stream",
     "text": [
      "Pi: 3.141592654\n",
      "Separador de milhar: 3,232\n",
      "0.01 e 1.00% significam a mesma coisa\n",
      "00000123\n",
      "0123.10\n"
     ]
    }
   ],
   "source": [
    "print('Pi: {}'.format(3.141592654))\n",
    "print('Separador de milhar: {:,}'.format(3232))\n",
    "print('{0:.2} e {0:.2%} significam a mesma coisa'.format(0.01))\n",
    "print('{:08d}'.format(123))\n",
    "print('{:07.2f}'.format(123.1))"
   ]
  },
  {
   "cell_type": "markdown",
   "metadata": {},
   "source": [
    "## Seção 8.6 - Expressões regulares (RegEx)\n",
    "\n",
    "### correspondência de padrão"
   ]
  },
  {
   "cell_type": "code",
   "execution_count": 5,
   "metadata": {},
   "outputs": [
    {
     "name": "stdout",
     "output_type": "stream",
     "text": [
      "<re.Match object; span=(0, 12), match='123 456 7890'>\n",
      "Encontrou? True\n",
      "Índice em que começa o match: 0\n",
      "Índice em que acaba o match: 12\n",
      "Span do match: (0, 12)\n",
      "A string encontrada: 123 456 7890\n"
     ]
    }
   ],
   "source": [
    "import re\n",
    "\n",
    "num_tel = '123 456 7890'\n",
    "\n",
    "m = re.match(pattern='\\d{3}\\s?\\d{3}\\s?\\d{4}', string=num_tel)\n",
    "\n",
    "print(m)\n",
    "print('Encontrou?', bool(m))\n",
    "print('Índice em que começa o match:', m.start())\n",
    "print('Índice em que acaba o match:', m.end())\n",
    "print('Span do match:', m.span())\n",
    "print('A string encontrada:', m.group())"
   ]
  },
  {
   "cell_type": "markdown",
   "metadata": {},
   "source": [
    "### encontrando todas as ocorrências"
   ]
  },
  {
   "cell_type": "code",
   "execution_count": 6,
   "metadata": {},
   "outputs": [
    {
     "name": "stdout",
     "output_type": "stream",
     "text": [
      "['1', '123', '34124', '13111']\n",
      "<class 'list'>\n"
     ]
    }
   ],
   "source": [
    "texto = 'Esse é um texto que 1 tem alguns dígitos 123 espalhados no meio. Vamos 34124 tentar pegar os números 13111'\n",
    "\n",
    "m = re.findall(pattern='\\d+', string=texto)\n",
    "\n",
    "print(m)\n",
    "print(type(m))"
   ]
  },
  {
   "cell_type": "markdown",
   "metadata": {},
   "source": [
    "### substituindo um padrão"
   ]
  },
  {
   "cell_type": "code",
   "execution_count": 7,
   "metadata": {},
   "outputs": [
    {
     "name": "stdout",
     "output_type": "stream",
     "text": [
      "Esse é um texto que 1 tem alguns dígitos 123 espalhados no meio. Vamos 34124 tentar pegar os números 13111\n",
      "Esse é um texto que _ tem alguns dígitos _ espalhados no meio. Vamos _ tentar pegar os números _\n"
     ]
    }
   ],
   "source": [
    "texto = 'Esse é um texto que 1 tem alguns dígitos 123 espalhados no meio. Vamos 34124 tentar pegar os números 13111'\n",
    "\n",
    "print(texto)\n",
    "\n",
    "texto = re.sub(pattern='\\d+', string=texto, repl='_')\n",
    "\n",
    "print(texto)"
   ]
  },
  {
   "cell_type": "markdown",
   "metadata": {},
   "source": [
    "### compilando um padrão\n",
    "\n",
    "Em vez de usar diretamente, podemos pegar a expressão regular e compilá-la antes de utilizá-la. Isso é útil para aumentar o desempenho quando aplicado em bases de dados grandes:"
   ]
  },
  {
   "cell_type": "code",
   "execution_count": 8,
   "metadata": {},
   "outputs": [
    {
     "name": "stdout",
     "output_type": "stream",
     "text": [
      "Esse é um texto que _ tem alguns dígitos _ espalhados no meio. Vamos _ tentar pegar os números _\n"
     ]
    }
   ],
   "source": [
    "texto = 'Esse é um texto que 1 tem alguns dígitos 123 espalhados no meio. Vamos 34124 tentar pegar os números 13111'\n",
    "\n",
    "padrao = re.compile('\\d+')\n",
    "\n",
    "texto = padrao.sub(string=texto, repl='_')\n",
    "\n",
    "print(texto)"
   ]
  }
 ],
 "metadata": {
  "kernelspec": {
   "display_name": "Python 3",
   "language": "python",
   "name": "python3"
  },
  "language_info": {
   "codemirror_mode": {
    "name": "ipython",
    "version": 3
   },
   "file_extension": ".py",
   "mimetype": "text/x-python",
   "name": "python",
   "nbconvert_exporter": "python",
   "pygments_lexer": "ipython3",
   "version": "3.8.5"
  }
 },
 "nbformat": 4,
 "nbformat_minor": 4
}
