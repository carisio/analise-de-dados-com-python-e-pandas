{
 "cells": [
  {
   "cell_type": "markdown",
   "metadata": {},
   "source": [
    "# Capítulo 13 - Modelos lineares generalizados\n",
    "\n",
    "## Seção 13.2 - Regressão logística\n",
    "\n",
    "Regressão logística é usada quando a variável de saída é binária. O resultado desse modelo é a probabilidade do evento ocorrer.\n",
    "\n",
    "Vamos começar com os dados da American Community Survey e criar uma variável binária indicando se a renda da família é maior ou menor que 150k:"
   ]
  },
  {
   "cell_type": "code",
   "execution_count": 1,
   "metadata": {},
   "outputs": [
    {
     "name": "stdout",
     "output_type": "stream",
     "text": [
      "Nome das variáveis:\n",
      "Index(['Acres', 'FamilyIncome', 'FamilyType', 'NumBedrooms', 'NumChildren',\n",
      "       'NumPeople', 'NumRooms', 'NumUnits', 'NumVehicles', 'NumWorkers',\n",
      "       'OwnRent', 'YearBuilt', 'HouseCosts', 'ElectricBill', 'FoodStamp',\n",
      "       'HeatingFuel', 'Insurance', 'Language'],\n",
      "      dtype='object')\n",
      "  Acres  FamilyIncome   FamilyType  NumBedrooms  NumChildren  NumPeople  \\\n",
      "0  1-10           150      Married            4            1          3   \n",
      "1  1-10           180  Female Head            3            2          4   \n",
      "2  1-10           280  Female Head            4            0          2   \n",
      "3  1-10           330  Female Head            2            1          2   \n",
      "4  1-10           330    Male Head            3            1          2   \n",
      "\n",
      "   NumRooms         NumUnits  NumVehicles  NumWorkers   OwnRent    YearBuilt  \\\n",
      "0         9  Single detached            1           0  Mortgage    1950-1959   \n",
      "1         6  Single detached            2           0    Rented  Before 1939   \n",
      "2         8  Single detached            3           1  Mortgage    2000-2004   \n",
      "3         4  Single detached            1           0    Rented    1950-1959   \n",
      "4         5  Single attached            1           0  Mortgage  Before 1939   \n",
      "\n",
      "   HouseCosts  ElectricBill FoodStamp HeatingFuel  Insurance        Language  \n",
      "0        1800            90        No         Gas       2500         English  \n",
      "1         850            90        No         Oil          0         English  \n",
      "2        2600           260        No         Oil       6600  Other European  \n",
      "3        1800           140        No         Oil          0         English  \n",
      "4         860           150        No         Gas        660         Spanish  \n",
      "--------------------------------------------------------------------------------\n",
      "Criando uma variável binária para indicar se a renda é maior ou menor que 150k\n",
      "--------------------------------------------------------------------------------\n",
      "O método cut vai retornar variáveis categorizadas. Vamos converter para int:\n",
      "0    18294\n",
      "1     4451\n",
      "Name: ge150k_i, dtype: int64\n"
     ]
    }
   ],
   "source": [
    "import pandas as pd\n",
    "\n",
    "acs = pd.read_csv('../data/acs_ny.csv')\n",
    "print('Nome das variáveis:')\n",
    "print(acs.columns)\n",
    "print(acs.head())\n",
    "\n",
    "print('-'*80)\n",
    "print('Criando uma variável binária para indicar se a renda é maior ou menor que 150k')\n",
    "acs['ge150k'] = pd.cut(acs['FamilyIncome'], [0, 150000, acs['FamilyIncome'].max()], labels=[0, 1])\n",
    "print('-'*80)\n",
    "print('O método cut vai retornar variáveis categorizadas. Vamos converter para int:')\n",
    "acs['ge150k_i'] = acs['ge150k'].astype(int)\n",
    "print(acs['ge150k_i'].value_counts())"
   ]
  },
  {
   "cell_type": "markdown",
   "metadata": {},
   "source": [
    "E agora vamos criar um modelo de regressão logística usando a statsmodels e a biblioteca sklearn.\n",
    "\n",
    "Primeiro com a statsmodels:"
   ]
  },
  {
   "cell_type": "code",
   "execution_count": 2,
   "metadata": {},
   "outputs": [
    {
     "name": "stdout",
     "output_type": "stream",
     "text": [
      "Optimization terminated successfully.\n",
      "         Current function value: 0.391651\n",
      "         Iterations 7\n",
      "                           Logit Regression Results                           \n",
      "==============================================================================\n",
      "Dep. Variable:               ge150k_i   No. Observations:                22745\n",
      "Model:                          Logit   Df Residuals:                    22737\n",
      "Method:                           MLE   Df Model:                            7\n",
      "Date:                Mon, 09 May 2022   Pseudo R-squ.:                  0.2078\n",
      "Time:                        11:18:10   Log-Likelihood:                -8908.1\n",
      "converged:                       True   LL-Null:                       -11244.\n",
      "Covariance Type:            nonrobust   LLR p-value:                     0.000\n",
      "===========================================================================================\n",
      "                              coef    std err          z      P>|z|      [0.025      0.975]\n",
      "-------------------------------------------------------------------------------------------\n",
      "Intercept                  -5.8081      0.120    -48.456      0.000      -6.043      -5.573\n",
      "OwnRent[T.Outright]         1.8276      0.208      8.782      0.000       1.420       2.236\n",
      "OwnRent[T.Rented]          -0.8763      0.101     -8.647      0.000      -1.075      -0.678\n",
      "FamilyType[T.Male Head]     0.2874      0.150      1.913      0.056      -0.007       0.582\n",
      "FamilyType[T.Married]       1.3877      0.088     15.781      0.000       1.215       1.560\n",
      "HouseCosts                  0.0007   1.72e-05     42.453      0.000       0.001       0.001\n",
      "NumWorkers                  0.5873      0.026     22.393      0.000       0.536       0.639\n",
      "NumBedrooms                 0.2365      0.017     13.985      0.000       0.203       0.270\n",
      "===========================================================================================\n"
     ]
    }
   ],
   "source": [
    "import statsmodels.formula.api as smf\n",
    "\n",
    "model = smf.logit('ge150k_i ~ HouseCosts + NumWorkers + OwnRent + NumBedrooms + FamilyType', data=acs)\n",
    "results = model.fit()\n",
    "\n",
    "print(results.summary())"
   ]
  },
  {
   "cell_type": "markdown",
   "metadata": {},
   "source": [
    "Veja que a variável OwnRent e FamilyType são variáveis categorizadas, coisa que a statsmodels já trata automaticamente. No caso de fazer o mesmo a sklearn é necessário criar as variáveis dummy na mão:"
   ]
  },
  {
   "cell_type": "code",
   "execution_count": 3,
   "metadata": {},
   "outputs": [
    {
     "name": "stdout",
     "output_type": "stream",
     "text": [
      "                          coef\n",
      "intercept            -4.833374\n",
      "HouseCosts            0.000585\n",
      "NumWorkers            0.730671\n",
      "NumBedrooms           0.283785\n",
      "OwnRent_Outright      0.070740\n",
      "OwnRent_Rented       -2.122382\n",
      "FamilyType_Male Head -1.032699\n",
      "FamilyType_Married    0.253848\n"
     ]
    },
    {
     "name": "stderr",
     "output_type": "stream",
     "text": [
      "C:\\Users\\caris\\Anaconda3\\lib\\site-packages\\sklearn\\linear_model\\_logistic.py:814: ConvergenceWarning: lbfgs failed to converge (status=1):\n",
      "STOP: TOTAL NO. of ITERATIONS REACHED LIMIT.\n",
      "\n",
      "Increase the number of iterations (max_iter) or scale the data as shown in:\n",
      "    https://scikit-learn.org/stable/modules/preprocessing.html\n",
      "Please also refer to the documentation for alternative solver options:\n",
      "    https://scikit-learn.org/stable/modules/linear_model.html#logistic-regression\n",
      "  n_iter_i = _check_optimize_result(\n"
     ]
    }
   ],
   "source": [
    "from sklearn import linear_model\n",
    "import numpy as np\n",
    "\n",
    "predictors = pd.get_dummies(acs[['HouseCosts', 'NumWorkers', 'OwnRent', 'NumBedrooms', 'FamilyType']], drop_first=True)\n",
    "\n",
    "lr = linear_model.LogisticRegression()\n",
    "\n",
    "# Inicialmente isso não estava funcionando com todos os preditores. Tive que atualizar o sklearn pra rodar.\n",
    "# Note que o algoritmo é diferente (ou usa uma seed diferente), visto que o resultado é diferente da statsmodels.\n",
    "\n",
    "results = lr.fit(X=predictors, y=acs['ge150k_i'])\n",
    "\n",
    "values = np.append(results.intercept_, results.coef_)\n",
    "names = np.append('intercept', predictors.columns)\n",
    "\n",
    "results = pd.DataFrame(values, index = names, columns=['coef'])\n",
    "\n",
    "print(results)"
   ]
  },
  {
   "cell_type": "markdown",
   "metadata": {},
   "source": [
    "## Seção 13.3 Regressão de Poisson\n",
    "\n",
    "A regressão de Poisson é adequada na modelagem de variáveis que envolvam taxas ou contagem. Na nossa base de dados, uma variável desse tipo é a NumChildren.\n",
    "\n",
    "O livro não dá detalhes de como cada coisa funciona, só joga os códigos. É necessário depois estudar cada modelo pra entender direito o que ele faz."
   ]
  },
  {
   "cell_type": "code",
   "execution_count": 4,
   "metadata": {},
   "outputs": [
    {
     "name": "stdout",
     "output_type": "stream",
     "text": [
      "                 Generalized Linear Model Regression Results                  \n",
      "==============================================================================\n",
      "Dep. Variable:            NumChildren   No. Observations:                22745\n",
      "Model:                            GLM   Df Residuals:                    22739\n",
      "Model Family:                 Poisson   Df Model:                            5\n",
      "Link Function:                    Log   Scale:                          1.0000\n",
      "Method:                          IRLS   Log-Likelihood:                -30679.\n",
      "Date:                Mon, 09 May 2022   Deviance:                       34643.\n",
      "Time:                        11:18:10   Pearson chi2:                 3.34e+04\n",
      "No. Iterations:                     6   Pseudo R-squ. (CS):            0.02588\n",
      "Covariance Type:            nonrobust                                         \n",
      "===========================================================================================\n",
      "                              coef    std err          z      P>|z|      [0.025      0.975]\n",
      "-------------------------------------------------------------------------------------------\n",
      "Intercept                  -0.3257      0.021    -15.490      0.000      -0.367      -0.284\n",
      "FamilyType[T.Male Head]    -0.0630      0.038     -1.637      0.102      -0.138       0.012\n",
      "FamilyType[T.Married]       0.1440      0.021      6.707      0.000       0.102       0.186\n",
      "OwnRent[T.Outright]        -1.9737      0.230     -8.599      0.000      -2.424      -1.524\n",
      "OwnRent[T.Rented]           0.4086      0.021     19.772      0.000       0.368       0.449\n",
      "FamilyIncome              5.42e-07   6.57e-08      8.247      0.000    4.13e-07    6.71e-07\n",
      "===========================================================================================\n"
     ]
    }
   ],
   "source": [
    "import statsmodels.api as sm\n",
    "import statsmodels.formula.api as smf\n",
    "\n",
    "model = smf.glm('NumChildren ~ FamilyIncome + FamilyType + OwnRent',\n",
    "               data=acs,\n",
    "               family=sm.families.Poisson())\n",
    "results = model.fit()\n",
    "\n",
    "print(results.summary())"
   ]
  }
 ],
 "metadata": {
  "kernelspec": {
   "display_name": "Python 3 (ipykernel)",
   "language": "python",
   "name": "python3"
  },
  "language_info": {
   "codemirror_mode": {
    "name": "ipython",
    "version": 3
   },
   "file_extension": ".py",
   "mimetype": "text/x-python",
   "name": "python",
   "nbconvert_exporter": "python",
   "pygments_lexer": "ipython3",
   "version": "3.8.5"
  }
 },
 "nbformat": 4,
 "nbformat_minor": 4
}
