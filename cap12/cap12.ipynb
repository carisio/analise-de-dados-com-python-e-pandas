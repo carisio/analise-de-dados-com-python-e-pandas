{
 "cells": [
  {
   "cell_type": "markdown",
   "metadata": {},
   "source": [
    "# Capítulo 12 - Modelos lineares\n",
    "\n",
    "## Seção 12.2 Regressão linear simples\n",
    "\n",
    "O livro usa duas bibliotecas para testes de regressão linear. A statsmodels e o sklearn.\n",
    "\n",
    "Inicialmente vamos abrir a base de dados de gorjeta e visualizar a tabela."
   ]
  },
  {
   "cell_type": "code",
   "execution_count": 1,
   "metadata": {},
   "outputs": [
    {
     "name": "stdout",
     "output_type": "stream",
     "text": [
      "   total_bill   tip     sex smoker  day    time  size\n",
      "0       16.99  1.01  Female     No  Sun  Dinner     2\n",
      "1       10.34  1.66    Male     No  Sun  Dinner     3\n",
      "2       21.01  3.50    Male     No  Sun  Dinner     3\n",
      "3       23.68  3.31    Male     No  Sun  Dinner     2\n",
      "4       24.59  3.61  Female     No  Sun  Dinner     4\n"
     ]
    }
   ],
   "source": [
    "import pandas as pd\n",
    "import seaborn as sns\n",
    "import statsmodels.formula.api as smf\n",
    "\n",
    "tips = sns.load_dataset('tips')\n",
    "print(tips.head())"
   ]
  },
  {
   "cell_type": "markdown",
   "metadata": {},
   "source": [
    "Agora vamos calcular a regressão linear simples entre o valor da gorjeta e o valor da conta usando statsmodels.\n",
    " \n",
    "Para isso, vamos usar a função ols (ordinary least squares). O resultado será no formato y = ax + b. Ou seja, temos o preditor (x) de uma variável de resposta (y). Na linguagem da biblioteca, escrevemos 'y ~ x'. No nosso caso, o preditor (x) é total_bill e a variável de resposta é a gorjeta (y = tip).\n",
    " \n",
    "Depois de definido o modelo, temos que efetivamente estimar o modelo (ou seja, calcular 'a' e 'b' em 'y = ax + b'). Para isso usamos o método fit()."
   ]
  },
  {
   "cell_type": "code",
   "execution_count": 2,
   "metadata": {},
   "outputs": [
    {
     "name": "stdout",
     "output_type": "stream",
     "text": [
      "                            OLS Regression Results                            \n",
      "==============================================================================\n",
      "Dep. Variable:                    tip   R-squared:                       0.457\n",
      "Model:                            OLS   Adj. R-squared:                  0.454\n",
      "Method:                 Least Squares   F-statistic:                     203.4\n",
      "Date:                Tue, 03 May 2022   Prob (F-statistic):           6.69e-34\n",
      "Time:                        18:43:38   Log-Likelihood:                -350.54\n",
      "No. Observations:                 244   AIC:                             705.1\n",
      "Df Residuals:                     242   BIC:                             712.1\n",
      "Df Model:                           1                                         \n",
      "Covariance Type:            nonrobust                                         \n",
      "==============================================================================\n",
      "                 coef    std err          t      P>|t|      [0.025      0.975]\n",
      "------------------------------------------------------------------------------\n",
      "Intercept      0.9203      0.160      5.761      0.000       0.606       1.235\n",
      "total_bill     0.1050      0.007     14.260      0.000       0.091       0.120\n",
      "==============================================================================\n",
      "Omnibus:                       20.185   Durbin-Watson:                   2.151\n",
      "Prob(Omnibus):                  0.000   Jarque-Bera (JB):               37.750\n",
      "Skew:                           0.443   Prob(JB):                     6.35e-09\n",
      "Kurtosis:                       4.711   Cond. No.                         53.0\n",
      "==============================================================================\n",
      "\n",
      "Notes:\n",
      "[1] Standard Errors assume that the covariance matrix of the errors is correctly specified.\n"
     ]
    }
   ],
   "source": [
    "model = smf.ols(formula='tip ~ total_bill', data=tips)\n",
    "results = model.fit()\n",
    "\n",
    "print(results.summary())"
   ]
  },
  {
   "cell_type": "markdown",
   "metadata": {},
   "source": [
    "Na equação y = ax + b o valor de 'b' no sumário é o campo Intercept. E o valor de 'a', total_bill. Esses dados podem ser acessados usando results.params (esse results.params é um objeto do tipo Series do pandas). O método fit já calcula também facilmente o intervalo de confiança de 95%:"
   ]
  },
  {
   "cell_type": "code",
   "execution_count": 3,
   "metadata": {},
   "outputs": [
    {
     "name": "stdout",
     "output_type": "stream",
     "text": [
      "Intercept     0.920270\n",
      "total_bill    0.105025\n",
      "dtype: float64\n",
      "----------------------------------------------------------------------\n",
      "Tipo do objeto: <class 'pandas.core.series.Series'>\n",
      "Intercept: 0.9202696135546724\n",
      "total_bill: 0.10502451738435338\n",
      "----------------------------------------------------------------------\n",
      "                   0         1\n",
      "Intercept   0.605622  1.234918\n",
      "total_bill  0.090517  0.119532\n"
     ]
    }
   ],
   "source": [
    "print(results.params)\n",
    "\n",
    "print('-'*70)\n",
    "print('Tipo do objeto:', type(results.params))\n",
    "print('Intercept:', results.params.Intercept)\n",
    "print('total_bill:', results.params.total_bill)\n",
    "\n",
    "print('-'*70)\n",
    "print(results.conf_int())\n"
   ]
  },
  {
   "cell_type": "markdown",
   "metadata": {},
   "source": [
    "A ideia usando a sklearn é parecida, mas usa um idioma diferente (e mais simples). Entretanto, um complicador é que ele trabalha com arrays numpy, então é necessário converter o objeto Series para um nparray na passagem do X (não precisa no Y):"
   ]
  },
  {
   "cell_type": "code",
   "execution_count": 4,
   "metadata": {},
   "outputs": [],
   "source": [
    "from sklearn import linear_model\n",
    "\n",
    "lr = linear_model.LinearRegression()\n",
    "\n",
    "predicted = lr.fit(X=tips.total_bill.values.reshape(-1,1), y=tips.tip)\n",
    "\n",
    "# Funciona assim também, bem mais simples:\n",
    "predicted = lr.fit(X=tips[['total_bill']], y=tips['tip'])"
   ]
  },
  {
   "cell_type": "markdown",
   "metadata": {},
   "source": [
    "Não há a tabela de sumário igual no statsmodels. Aqui temos que pegar os elementos que quisermos:"
   ]
  },
  {
   "cell_type": "code",
   "execution_count": 5,
   "metadata": {},
   "outputs": [
    {
     "name": "stdout",
     "output_type": "stream",
     "text": [
      "[0.10502452]\n",
      "0.9202696135546731\n"
     ]
    }
   ],
   "source": [
    "print(predicted.coef_)\n",
    "print(predicted.intercept_)"
   ]
  },
  {
   "cell_type": "markdown",
   "metadata": {},
   "source": [
    "## Seção 12.3 - Regressão múltipla\n",
    "\n",
    "Regressão múltiplas com variáveis numéricas é semelhante. No caso da statsmodels, o formato de entrada da fórmula é 'y ~ x1 + x2 + ... + xn'. Para sklearn basta usarmos o dataframe com as colunas x1, x2, ... xn. Não é necessário reformatar nada igual no caso de regressão simples.\n",
    "\n",
    "Usando statsmodel:"
   ]
  },
  {
   "cell_type": "code",
   "execution_count": 6,
   "metadata": {},
   "outputs": [
    {
     "name": "stdout",
     "output_type": "stream",
     "text": [
      "                            OLS Regression Results                            \n",
      "==============================================================================\n",
      "Dep. Variable:                    tip   R-squared:                       0.468\n",
      "Model:                            OLS   Adj. R-squared:                  0.463\n",
      "Method:                 Least Squares   F-statistic:                     105.9\n",
      "Date:                Tue, 03 May 2022   Prob (F-statistic):           9.67e-34\n",
      "Time:                        18:43:39   Log-Likelihood:                -347.99\n",
      "No. Observations:                 244   AIC:                             702.0\n",
      "Df Residuals:                     241   BIC:                             712.5\n",
      "Df Model:                           2                                         \n",
      "Covariance Type:            nonrobust                                         \n",
      "==============================================================================\n",
      "                 coef    std err          t      P>|t|      [0.025      0.975]\n",
      "------------------------------------------------------------------------------\n",
      "Intercept      0.6689      0.194      3.455      0.001       0.288       1.050\n",
      "total_bill     0.0927      0.009     10.172      0.000       0.075       0.111\n",
      "size           0.1926      0.085      2.258      0.025       0.025       0.361\n",
      "==============================================================================\n",
      "Omnibus:                       24.753   Durbin-Watson:                   2.100\n",
      "Prob(Omnibus):                  0.000   Jarque-Bera (JB):               46.169\n",
      "Skew:                           0.545   Prob(JB):                     9.43e-11\n",
      "Kurtosis:                       4.831   Cond. No.                         67.6\n",
      "==============================================================================\n",
      "\n",
      "Notes:\n",
      "[1] Standard Errors assume that the covariance matrix of the errors is correctly specified.\n"
     ]
    }
   ],
   "source": [
    "model = smf.ols(formula='tip ~ total_bill + size', data=tips).fit()\n",
    "print(model.summary())"
   ]
  },
  {
   "cell_type": "markdown",
   "metadata": {},
   "source": [
    "Usando sklearn:"
   ]
  },
  {
   "cell_type": "code",
   "execution_count": 7,
   "metadata": {},
   "outputs": [
    {
     "name": "stdout",
     "output_type": "stream",
     "text": [
      "[0.09271334 0.19259779]\n",
      "0.6689447408125022\n"
     ]
    }
   ],
   "source": [
    "predicted = lr.fit(X=tips[['total_bill', 'size']], y=tips['tip'])\n",
    "print(predicted.coef_)\n",
    "print(predicted.intercept_)"
   ]
  },
  {
   "cell_type": "markdown",
   "metadata": {},
   "source": [
    "Regressões podem ser feitas também com variáveis categorizadas. Nesse exemplo temos algumas variáveis desse tipo: sex, smoker, day e time. Vamos ver primeiro o conteúdo dessas variáveis e depois fazer a regressão usando variáveis dummy para elas. No caso do statsmodels isso já é automático. Já para o sklearn é necessário fazer manualmente"
   ]
  },
  {
   "cell_type": "code",
   "execution_count": 8,
   "metadata": {},
   "outputs": [
    {
     "name": "stdout",
     "output_type": "stream",
     "text": [
      "Info das variáveis do dataframe:\n",
      "<class 'pandas.core.frame.DataFrame'>\n",
      "RangeIndex: 244 entries, 0 to 243\n",
      "Data columns (total 7 columns):\n",
      " #   Column      Non-Null Count  Dtype   \n",
      "---  ------      --------------  -----   \n",
      " 0   total_bill  244 non-null    float64 \n",
      " 1   tip         244 non-null    float64 \n",
      " 2   sex         244 non-null    category\n",
      " 3   smoker      244 non-null    category\n",
      " 4   day         244 non-null    category\n",
      " 5   time        244 non-null    category\n",
      " 6   size        244 non-null    int64   \n",
      "dtypes: category(4), float64(2), int64(1)\n",
      "memory usage: 7.3 KB\n",
      "None\n",
      "--------------------------------------------------------------------------------\n",
      "sex: ['Female', 'Male']\n",
      "Categories (2, object): ['Female', 'Male']\n",
      "--------------------------------------------------------------------------------\n",
      "smoker: ['No', 'Yes']\n",
      "Categories (2, object): ['No', 'Yes']\n",
      "--------------------------------------------------------------------------------\n",
      "day: ['Sun', 'Sat', 'Thur', 'Fri']\n",
      "Categories (4, object): ['Sun', 'Sat', 'Thur', 'Fri']\n",
      "--------------------------------------------------------------------------------\n",
      "time: ['Dinner', 'Lunch']\n",
      "Categories (2, object): ['Dinner', 'Lunch']\n"
     ]
    }
   ],
   "source": [
    "print('Info das variáveis do dataframe:')\n",
    "print(tips.info())\n",
    "\n",
    "print('-'*80)\n",
    "print('sex:', tips.sex.unique())\n",
    "print('-'*80)\n",
    "print('smoker:', tips.smoker.unique())\n",
    "print('-'*80)\n",
    "print('day:', tips.day.unique())\n",
    "print('-'*80)\n",
    "print('time:', tips.time.unique())"
   ]
  },
  {
   "cell_type": "code",
   "execution_count": 9,
   "metadata": {},
   "outputs": [
    {
     "name": "stdout",
     "output_type": "stream",
     "text": [
      "                            OLS Regression Results                            \n",
      "==============================================================================\n",
      "Dep. Variable:                    tip   R-squared:                       0.470\n",
      "Model:                            OLS   Adj. R-squared:                  0.452\n",
      "Method:                 Least Squares   F-statistic:                     26.06\n",
      "Date:                Tue, 03 May 2022   Prob (F-statistic):           1.20e-28\n",
      "Time:                        18:43:39   Log-Likelihood:                -347.48\n",
      "No. Observations:                 244   AIC:                             713.0\n",
      "Df Residuals:                     235   BIC:                             744.4\n",
      "Df Model:                           8                                         \n",
      "Covariance Type:            nonrobust                                         \n",
      "==================================================================================\n",
      "                     coef    std err          t      P>|t|      [0.025      0.975]\n",
      "----------------------------------------------------------------------------------\n",
      "Intercept          0.5908      0.256      2.310      0.022       0.087       1.095\n",
      "sex[T.Female]      0.0324      0.142      0.229      0.819      -0.247       0.311\n",
      "smoker[T.No]       0.0864      0.147      0.589      0.556      -0.202       0.375\n",
      "day[T.Fri]         0.1623      0.393      0.412      0.680      -0.613       0.937\n",
      "day[T.Sat]         0.0408      0.471      0.087      0.931      -0.886       0.968\n",
      "day[T.Sun]         0.1368      0.472      0.290      0.772      -0.793       1.066\n",
      "time[T.Dinner]    -0.0681      0.445     -0.153      0.878      -0.944       0.808\n",
      "total_bill         0.0945      0.010      9.841      0.000       0.076       0.113\n",
      "size               0.1760      0.090      1.966      0.051      -0.000       0.352\n",
      "==============================================================================\n",
      "Omnibus:                       27.860   Durbin-Watson:                   2.096\n",
      "Prob(Omnibus):                  0.000   Jarque-Bera (JB):               52.555\n",
      "Skew:                           0.607   Prob(JB):                     3.87e-12\n",
      "Kurtosis:                       4.923   Cond. No.                         281.\n",
      "==============================================================================\n",
      "\n",
      "Notes:\n",
      "[1] Standard Errors assume that the covariance matrix of the errors is correctly specified.\n"
     ]
    }
   ],
   "source": [
    "model = smf.ols(formula='tip ~ total_bill + size + sex + smoker + day + time', data=tips).fit()\n",
    "print(model.summary())"
   ]
  },
  {
   "cell_type": "code",
   "execution_count": 10,
   "metadata": {},
   "outputs": [
    {
     "name": "stdout",
     "output_type": "stream",
     "text": [
      "--------------------------------------------------------------------------------\n",
      "Variáveis dummy calculadas pelo Pandas\n",
      "   total_bill  size  sex_Male  sex_Female  smoker_Yes  smoker_No  day_Thur  \\\n",
      "0       16.99     2         0           1           0          1         0   \n",
      "1       10.34     3         1           0           0          1         0   \n",
      "2       21.01     3         1           0           0          1         0   \n",
      "3       23.68     2         1           0           0          1         0   \n",
      "4       24.59     4         0           1           0          1         0   \n",
      "\n",
      "   day_Fri  day_Sat  day_Sun  time_Lunch  time_Dinner  \n",
      "0        0        0        1           0            1  \n",
      "1        0        0        1           0            1  \n",
      "2        0        0        1           0            1  \n",
      "3        0        0        1           0            1  \n",
      "4        0        0        1           0            1  \n",
      "--------------------------------------------------------------------------------\n",
      "Variáveis dummy calculadas pelo Pandas descartando a variável de referência\n",
      "   total_bill  size  sex_Female  smoker_No  day_Fri  day_Sat  day_Sun  \\\n",
      "0       16.99     2           1          1        0        0        1   \n",
      "1       10.34     3           0          1        0        0        1   \n",
      "2       21.01     3           0          1        0        0        1   \n",
      "3       23.68     2           0          1        0        0        1   \n",
      "4       24.59     4           1          1        0        0        1   \n",
      "\n",
      "   time_Dinner  \n",
      "0            1  \n",
      "1            1  \n",
      "2            1  \n",
      "3            1  \n",
      "4            1  \n"
     ]
    }
   ],
   "source": [
    "# Usa o pandas pra calcular variáveis dummy. Ele não descarta a primeira (de referência) por padrão:\n",
    "tips_dummy = pd.get_dummies(tips[['total_bill', 'size', 'sex', 'smoker', 'day', 'time']])\n",
    "print('-'*80)\n",
    "print('Variáveis dummy calculadas pelo Pandas')\n",
    "print(tips_dummy.head())\n",
    "\n",
    "# Descarta as variáveis dummies de referência:\n",
    "x_tips_dummy_ref = pd.get_dummies(tips[['total_bill', 'size', 'sex', 'smoker', 'day', 'time']], drop_first=True)\n",
    "print('-'*80)\n",
    "print('Variáveis dummy calculadas pelo Pandas descartando a variável de referência')\n",
    "print(x_tips_dummy_ref.head())"
   ]
  },
  {
   "cell_type": "code",
   "execution_count": 11,
   "metadata": {},
   "outputs": [
    {
     "name": "stdout",
     "output_type": "stream",
     "text": [
      "[ 0.09448701  0.175992    0.03244094  0.08640832  0.1622592   0.04080082\n",
      "  0.13677854 -0.0681286 ]\n",
      "0.5908374259513769\n"
     ]
    }
   ],
   "source": [
    "predicted = lr.fit(X=x_tips_dummy_ref, y=tips['tip'])\n",
    "print(predicted.coef_)\n",
    "print(predicted.intercept_)"
   ]
  },
  {
   "cell_type": "markdown",
   "metadata": {},
   "source": [
    "## Seção 12.4 - Mantendo os rótulos dos índices com a sklearn\n",
    "\n",
    "Os atributos coef_ e intercept_ do resultado da sklearn são do tipo nparray. Logo, não possuem um índice associado, o que torna mais difícil de interpretar os resultados com um print simples nesses atributos. Entretanto, podemos criar um dataframe com esse resultado indexando tudo:"
   ]
  },
  {
   "cell_type": "code",
   "execution_count": 12,
   "metadata": {},
   "outputs": [
    {
     "name": "stdout",
     "output_type": "stream",
     "text": [
      "                 coef\n",
      "intercept    0.590837\n",
      "total_bill   0.094487\n",
      "size         0.175992\n",
      "sex_Female   0.032441\n",
      "smoker_No    0.086408\n",
      "day_Fri      0.162259\n",
      "day_Sat      0.040801\n",
      "day_Sun      0.136779\n",
      "time_Dinner -0.068129\n"
     ]
    }
   ],
   "source": [
    "import numpy as np\n",
    "\n",
    "values = np.append(predicted.intercept_, predicted.coef_)\n",
    "\n",
    "names = np.append('intercept', x_tips_dummy_ref.columns)\n",
    "\n",
    "results = pd.DataFrame(values, index = names, columns=['coef'])\n",
    "\n",
    "print(results)"
   ]
  }
 ],
 "metadata": {
  "kernelspec": {
   "display_name": "Python 3",
   "language": "python",
   "name": "python3"
  },
  "language_info": {
   "codemirror_mode": {
    "name": "ipython",
    "version": 3
   },
   "file_extension": ".py",
   "mimetype": "text/x-python",
   "name": "python",
   "nbconvert_exporter": "python",
   "pygments_lexer": "ipython3",
   "version": "3.8.5"
  }
 },
 "nbformat": 4,
 "nbformat_minor": 4
}
