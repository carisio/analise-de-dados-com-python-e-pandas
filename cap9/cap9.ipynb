{
 "cells": [
  {
   "cell_type": "markdown",
   "metadata": {},
   "source": [
    "# Capítulo 9 - Apply\n",
    "\n",
    "## Seção 9.1 - Introdução\n",
    "\n",
    "A ideia da função apply é aplicar uma função em toda uma série simultaneamente.\n",
    "\n",
    "## Seção 9.2 - Funções\n",
    "\n",
    "Para iniciar os testes, vamos definir três funções: quadrado de um número, potência de um número e média de dois números:"
   ]
  },
  {
   "cell_type": "code",
   "execution_count": 1,
   "metadata": {},
   "outputs": [],
   "source": [
    "def quadrado(x):\n",
    "    return x**2\n",
    "\n",
    "def potencia(x, n):\n",
    "    return x**n\n",
    "\n",
    "def media(x, y):\n",
    "    return (x+y)/2"
   ]
  },
  {
   "cell_type": "markdown",
   "metadata": {},
   "source": [
    "## Seção 9.3 - apply (básico)\n",
    "\n",
    "Podemos aplicar apply a uma série diretamente bastando chamar a função apply e passando como parâmetro uma função que será aplicada a cada elemento da série:"
   ]
  },
  {
   "cell_type": "code",
   "execution_count": 2,
   "metadata": {},
   "outputs": [
    {
     "name": "stdout",
     "output_type": "stream",
     "text": [
      "    a   b\n",
      "0  10  20\n",
      "1  20  30\n",
      "2  30  40\n"
     ]
    }
   ],
   "source": [
    "import pandas as pd\n",
    "\n",
    "df = pd.DataFrame(\n",
    "    {\n",
    "        'a': [10, 20, 30],\n",
    "        'b': [20, 30, 40]\n",
    "    }\n",
    ")\n",
    "\n",
    "print(df)"
   ]
  },
  {
   "cell_type": "code",
   "execution_count": 3,
   "metadata": {},
   "outputs": [
    {
     "name": "stdout",
     "output_type": "stream",
     "text": [
      "Aplicando apply a uma função que só recebe um parâmetro\n",
      "0    100\n",
      "1    400\n",
      "2    900\n",
      "Name: a, dtype: int64\n"
     ]
    }
   ],
   "source": [
    "quadrado_a = df['a'].apply(quadrado)\n",
    "\n",
    "print('Aplicando apply a uma função que só recebe um parâmetro')\n",
    "print(quadrado_a)"
   ]
  },
  {
   "cell_type": "markdown",
   "metadata": {},
   "source": [
    "Se a função receber um parâmetro, podemos passar para apply a lista nomeada de parâmetros que deverá ser repassada para a função:"
   ]
  },
  {
   "cell_type": "code",
   "execution_count": 4,
   "metadata": {},
   "outputs": [
    {
     "name": "stdout",
     "output_type": "stream",
     "text": [
      "Aplicando apply a uma função que recebe mais de um argumento. É necessário nomear os argumentos aqui\n",
      "0     1000\n",
      "1     8000\n",
      "2    27000\n",
      "Name: a, dtype: int64\n"
     ]
    }
   ],
   "source": [
    "cubo_a = df['a'].apply(potencia, n=3)\n",
    "\n",
    "print('Aplicando apply a uma função que recebe mais de um argumento. É necessário nomear os argumentos aqui')\n",
    "print(cubo_a)"
   ]
  },
  {
   "cell_type": "markdown",
   "metadata": {},
   "source": [
    "Apply pode ser aplicada também a um dataframe. Nesse caso, o que será passado para a função não são os elementos do dataframe, e sim toda uma coluna ou linha do dataframe (depende do eixo, axis=0 para coluna e axis=1 para linha).\n",
    "\n",
    "Isso é interessante para sumarizar alguns dados. Por exemplo, vamos calcular a soma dos elementos das linhas e colunas de df:"
   ]
  },
  {
   "cell_type": "code",
   "execution_count": 5,
   "metadata": {},
   "outputs": [
    {
     "name": "stdout",
     "output_type": "stream",
     "text": [
      "    a   b\n",
      "0  10  20\n",
      "1  20  30\n",
      "2  30  40\n",
      "-----------------------\n",
      "Aplicando a cada coluna (axis=0), temos a soma de cada coluna:\n",
      "a    60\n",
      "b    90\n",
      "dtype: int64\n",
      "-----------------------\n",
      "Aplicando a cada linha (axis=1), temos a soma de cada linha:\n",
      "0    30\n",
      "1    50\n",
      "2    70\n",
      "dtype: int64\n"
     ]
    }
   ],
   "source": [
    "print(df)\n",
    "print('-----------------------')\n",
    "print('Aplicando a cada coluna (axis=0), temos a soma de cada coluna:')\n",
    "print(df.apply(sum, axis=0))\n",
    "print('-----------------------')\n",
    "print('Aplicando a cada linha (axis=1), temos a soma de cada linha:')\n",
    "print(df.apply(sum, axis=1))\n"
   ]
  },
  {
   "cell_type": "markdown",
   "metadata": {},
   "source": [
    "## Seção 9.4 - apply (mais avançado)\n",
    "\n",
    "Nessa seção vamos usar o banco de dados 'titanic' da biblioteca seaborn. Essa base de dados informa se um indivíduo sobreviveu ao naufrágio do Titanic."
   ]
  },
  {
   "cell_type": "code",
   "execution_count": 6,
   "metadata": {},
   "outputs": [
    {
     "name": "stdout",
     "output_type": "stream",
     "text": [
      "<class 'pandas.core.frame.DataFrame'>\n",
      "RangeIndex: 891 entries, 0 to 890\n",
      "Data columns (total 15 columns):\n",
      " #   Column       Non-Null Count  Dtype   \n",
      "---  ------       --------------  -----   \n",
      " 0   survived     891 non-null    int64   \n",
      " 1   pclass       891 non-null    int64   \n",
      " 2   sex          891 non-null    object  \n",
      " 3   age          714 non-null    float64 \n",
      " 4   sibsp        891 non-null    int64   \n",
      " 5   parch        891 non-null    int64   \n",
      " 6   fare         891 non-null    float64 \n",
      " 7   embarked     889 non-null    object  \n",
      " 8   class        891 non-null    category\n",
      " 9   who          891 non-null    object  \n",
      " 10  adult_male   891 non-null    bool    \n",
      " 11  deck         203 non-null    category\n",
      " 12  embark_town  889 non-null    object  \n",
      " 13  alive        891 non-null    object  \n",
      " 14  alone        891 non-null    bool    \n",
      "dtypes: bool(2), category(2), float64(2), int64(4), object(5)\n",
      "memory usage: 80.6+ KB\n"
     ]
    }
   ],
   "source": [
    "import seaborn as sns\n",
    "\n",
    "titanic = sns.load_dataset('titanic')\n",
    "\n",
    "titanic.info()"
   ]
  },
  {
   "cell_type": "markdown",
   "metadata": {},
   "source": [
    "Agora vamos escrever algumas funções para usar apply para calcular a quantidade de valores ausentes no dataframe e a proporção de valores ausentes e completos."
   ]
  },
  {
   "cell_type": "code",
   "execution_count": 7,
   "metadata": {},
   "outputs": [],
   "source": [
    "import numpy as np\n",
    "\n",
    "def count_missing(vec):\n",
    "    return np.sum(pd.isnull(vec))\n",
    "\n",
    "def prop_missing(vec):\n",
    "    return count_missing(vec)/vec.size\n",
    "\n",
    "def prop_complete(vec):\n",
    "    return 1 - prop_missing(vec)"
   ]
  },
  {
   "cell_type": "markdown",
   "metadata": {},
   "source": [
    "E agora vamos aplicar essas funções em cada coluna da base. Ou seja, saberemos, por coluna, quantos resultados tem faltante (NaN) e qual a proporção de NaN na coluna:"
   ]
  },
  {
   "cell_type": "code",
   "execution_count": 8,
   "metadata": {},
   "outputs": [
    {
     "name": "stdout",
     "output_type": "stream",
     "text": [
      "--------------------------------------\n",
      "Quantidade de NaN por coluna\n",
      "--------------------------------------\n",
      "survived         0\n",
      "pclass           0\n",
      "sex              0\n",
      "age            177\n",
      "sibsp            0\n",
      "parch            0\n",
      "fare             0\n",
      "embarked         2\n",
      "class            0\n",
      "who              0\n",
      "adult_male       0\n",
      "deck           688\n",
      "embark_town      2\n",
      "alive            0\n",
      "alone            0\n",
      "dtype: int64\n",
      "--------------------------------------\n",
      "Proporção de NaN por coluna\n",
      "--------------------------------------\n",
      "survived       0.000000\n",
      "pclass         0.000000\n",
      "sex            0.000000\n",
      "age            0.198653\n",
      "sibsp          0.000000\n",
      "parch          0.000000\n",
      "fare           0.000000\n",
      "embarked       0.002245\n",
      "class          0.000000\n",
      "who            0.000000\n",
      "adult_male     0.000000\n",
      "deck           0.772166\n",
      "embark_town    0.002245\n",
      "alive          0.000000\n",
      "alone          0.000000\n",
      "dtype: float64\n",
      "--------------------------------------\n",
      "Proporção de registros completos por coluna\n",
      "--------------------------------------\n",
      "survived       1.000000\n",
      "pclass         1.000000\n",
      "sex            1.000000\n",
      "age            0.801347\n",
      "sibsp          1.000000\n",
      "parch          1.000000\n",
      "fare           1.000000\n",
      "embarked       0.997755\n",
      "class          1.000000\n",
      "who            1.000000\n",
      "adult_male     1.000000\n",
      "deck           0.227834\n",
      "embark_town    0.997755\n",
      "alive          1.000000\n",
      "alone          1.000000\n",
      "dtype: float64\n"
     ]
    }
   ],
   "source": [
    "cmis_col = titanic.apply(count_missing)\n",
    "pmis_col = titanic.apply(prop_missing)\n",
    "pcom_col = titanic.apply(prop_complete)\n",
    "\n",
    "print('--------------------------------------')\n",
    "print('Quantidade de NaN por coluna')\n",
    "print('--------------------------------------')\n",
    "print(cmis_col)\n",
    "\n",
    "print('--------------------------------------')\n",
    "print('Proporção de NaN por coluna')\n",
    "print('--------------------------------------')\n",
    "print(pmis_col)\n",
    "\n",
    "print('--------------------------------------')\n",
    "print('Proporção de registros completos por coluna')\n",
    "print('--------------------------------------')\n",
    "print(pcom_col)"
   ]
  },
  {
   "cell_type": "markdown",
   "metadata": {},
   "source": [
    "## Seção 9.6 - Funções lambda\n",
    "\n",
    "Se a função for simples demais, podemos simplesmente passar uma função lambda como entrada pra apply em vez de definir uma função:"
   ]
  },
  {
   "cell_type": "code",
   "execution_count": 9,
   "metadata": {},
   "outputs": [
    {
     "name": "stdout",
     "output_type": "stream",
     "text": [
      "............................\n",
      "df[\"a\"]\n",
      "............................\n",
      "0    10\n",
      "1    20\n",
      "2    30\n",
      "Name: a, dtype: int64\n",
      "............................\n",
      "df[\"a\"] - 10\n",
      "............................\n",
      "0     0\n",
      "1    10\n",
      "2    20\n",
      "Name: a, dtype: int64\n"
     ]
    }
   ],
   "source": [
    "print('............................')\n",
    "print('df[\"a\"]')\n",
    "print('............................')\n",
    "print(df['a'])\n",
    "\n",
    "# Função que subtrai 10\n",
    "a_menos_10 = df['a'].apply(lambda x: x-10)\n",
    "print('............................')\n",
    "print('df[\"a\"] - 10')\n",
    "print('............................')\n",
    "print(a_menos_10)"
   ]
  }
 ],
 "metadata": {
  "kernelspec": {
   "display_name": "Python 3",
   "language": "python",
   "name": "python3"
  },
  "language_info": {
   "codemirror_mode": {
    "name": "ipython",
    "version": 3
   },
   "file_extension": ".py",
   "mimetype": "text/x-python",
   "name": "python",
   "nbconvert_exporter": "python",
   "pygments_lexer": "ipython3",
   "version": "3.8.5"
  }
 },
 "nbformat": 4,
 "nbformat_minor": 4
}
